{
 "cells": [
  {
   "cell_type": "code",
   "execution_count": 1,
   "id": "43784fee",
   "metadata": {},
   "outputs": [],
   "source": [
    "import pyspark\n",
    "from pyspark.sql import SparkSession"
   ]
  },
  {
   "cell_type": "code",
   "execution_count": 2,
   "id": "e3823630",
   "metadata": {},
   "outputs": [
    {
     "name": "stderr",
     "output_type": "stream",
     "text": [
      "Setting default log level to \"WARN\".\n",
      "To adjust logging level use sc.setLogLevel(newLevel). For SparkR, use setLogLevel(newLevel).\n",
      "2022-02-20 23:31:14,790 WARN spark.SparkConf: Note that spark.local.dir will be overridden by the value set by the cluster manager (via SPARK_LOCAL_DIRS in mesos/standalone/kubernetes and LOCAL_DIRS in YARN).\n"
     ]
    }
   ],
   "source": [
    "spark = SparkSession.builder\\\n",
    "                    .master(\"yarn\")\\\n",
    "                    .appName(\"tp3\")\\\n",
    "                    .config('spark.ui.port', '4075')\\\n",
    "                    .config('spark.executor.memory', '4g')\\\n",
    "                    .config('spark.executor.cores', '2')\\\n",
    "                    .config('spark.executor.instances', '4')\\\n",
    "                    .config('spark.driver.memory', '4g')\\\n",
    "                    .config('spark.driver.maxResultSize', '2g')\\\n",
    "                    .getOrCreate()"
   ]
  },
  {
   "cell_type": "code",
   "execution_count": 3,
   "id": "6484d4cc",
   "metadata": {
    "scrolled": true
   },
   "outputs": [
    {
     "name": "stderr",
     "output_type": "stream",
     "text": [
      "                                                                                \r"
     ]
    }
   ],
   "source": [
    "df_spark = spark.read.json(\"/datasets/imdb/\", multiLine=True)"
   ]
  },
  {
   "cell_type": "code",
   "execution_count": 4,
   "id": "f53113f1",
   "metadata": {},
   "outputs": [
    {
     "name": "stderr",
     "output_type": "stream",
     "text": [
      "[Stage 1:>                                                          (0 + 1) / 1]"
     ]
    },
    {
     "name": "stdout",
     "output_type": "stream",
     "text": [
      "+--------+--------------------+------+-----------------+--------------------+---------+--------------------+----------------+-----------+\n",
      "| helpful|               movie|rating|      review_date|       review_detail|review_id|      review_summary|        reviewer|spoiler_tag|\n",
      "+--------+--------------------+------+-----------------+--------------------+---------+--------------------+----------------+-----------+\n",
      "|  [1, 3]|Dead Man on Campu...|    10| 13 December 2001|I didn't even see...|rw0400504|A very funny, and...|  kevgtchlk4life|          0|\n",
      "|  [2, 2]|Dead Man on Campu...|  null|  22 January 1999|It's definitely n...|rw0400505|Fun if you don't ...|        DaniXand|          0|\n",
      "|  [1, 3]|Dead Man on Campu...|  null|   9 January 2002|First of all can ...|rw0400506|This is the way c...|     ted_the_bad|          0|\n",
      "|  [1, 3]|Dead Man on Campu...|  null|       1 May 2002|My friend was ALW...|rw0400508|Although I didn't...|        Kmk12277|          0|\n",
      "|  [2, 3]|Dead Man on Campu...|  null|  31 January 1999|The laughter neve...|rw0400509|  Non-Start Laughter|        Dave #42|          0|\n",
      "|  [1, 3]|Dead Man on Campu...|  null|      9 July 2002|I saw this movie ...|rw0400511|     A personal fav.|  Dereksonthemic|          0|\n",
      "|  [1, 3]|Dead Man on Campu...|     8|    11 March 1999|If you liked MTV'...|rw0400510|    Just Plain Funny|         tjw1973|          0|\n",
      "|  [1, 3]|Dead Man on Campu...|    10|     26 July 2002|I must have seen ...|rw0400513| I love this movie!!|         dcsbebe|          0|\n",
      "|  [1, 2]|Dead Man on Campu...|  null|     24 July 2002|OK, so this movie...|rw0400512|Really funny, but...|      PopRox9139|          0|\n",
      "|  [2, 5]|Dead Man on Campu...|  null|   6 January 2003|I love this movie...|rw0400515|      Great movie...|  studiokittycat|          0|\n",
      "|  [6, 9]|Dead Man on Campu...|  null|   6 January 2003|DEAD MAN ON CAMPU...|rw0400514|        oscar worthy|       teddyryan|          0|\n",
      "|  [1, 3]|Dead Man on Campu...|     9|  20 January 2003|\"DEAD MAN ON CAMP...|rw0400516|funny funny film!...|      amm_star88|          0|\n",
      "|  [1, 3]|Dead Man on Campu...|     9|  8 February 2003|Gosselaar has don...|rw0400517|              SEE IT|   All_Things_Ex|          0|\n",
      "|  [4, 8]|Dead Man on Campu...|     5|     1 April 2003|The idea for this...|rw0400518|Great premise, ba...|      Meredith-7|          0|\n",
      "|  [5, 7]|Dead Man on Campu...|     4|11 September 2003|Okay okay let me ...|rw0400520|Funny thing happened|     cptinramius|          0|\n",
      "|[10, 16]|Dead Man on Campu...|  null|  21 October 2003|Picture the scene...|rw0400521|\"Man this is clas...|MrsAnthonyHowell|          0|\n",
      "| [7, 10]|Dead Man on Campu...|  null|  21 October 2003|Picture the scene...|rw0400522|\"Man this is clas...|MrsAnthonyHowell|          0|\n",
      "|  [2, 5]|Dead Man on Campu...|     5|  9 December 2003|Can a comedy be l...|rw0400523|\"Attempted vehicu...|         gridoon|          0|\n",
      "|[27, 36]|Dead Man on Campu...|    10|      30 May 2004|This film is one ...|rw0400524|Animal House for ...|      MongrelMob|          0|\n",
      "| [9, 10]|Dellaventura (199...|  null| 30 November 2003|What a great dete...|rw0400525|Why'd this get ca...|        jamsilve|          0|\n",
      "+--------+--------------------+------+-----------------+--------------------+---------+--------------------+----------------+-----------+\n",
      "only showing top 20 rows\n",
      "\n"
     ]
    },
    {
     "name": "stderr",
     "output_type": "stream",
     "text": [
      "                                                                                \r"
     ]
    }
   ],
   "source": [
    "df_spark.show()"
   ]
  },
  {
   "cell_type": "markdown",
   "id": "294dac0f",
   "metadata": {},
   "source": [
    "Qual ano teve filmes mais bem avaliados?"
   ]
  },
  {
   "cell_type": "markdown",
   "id": "7a2b4c08",
   "metadata": {},
   "source": [
    "- Aqui vamos agrupar os filmes pelo ano de lançamento e analisar a média de notas por ano. Assim, é possível dizer qual ano lançou filmes mais bem avaliados."
   ]
  },
  {
   "cell_type": "code",
   "execution_count": 4,
   "id": "c41b748c",
   "metadata": {},
   "outputs": [],
   "source": [
    "from pyspark.sql.functions import col\n",
    "\n",
    "df1 = df_spark.select(col(\"movie\"),col(\"rating\"))"
   ]
  },
  {
   "cell_type": "code",
   "execution_count": 6,
   "id": "cf89068c",
   "metadata": {},
   "outputs": [],
   "source": [
    "df1 = df1.dropna()"
   ]
  },
  {
   "cell_type": "code",
   "execution_count": 5,
   "id": "84d79955",
   "metadata": {},
   "outputs": [],
   "source": [
    "from pyspark.sql.functions import regexp_replace, regexp_extract\n",
    "\n",
    "result = df1.withColumn('ano', regexp_extract(col('movie'),  r\"\\(([^()]+)\\)$\", 1))"
   ]
  },
  {
   "cell_type": "code",
   "execution_count": 6,
   "id": "2b256987",
   "metadata": {},
   "outputs": [],
   "source": [
    "import pyspark.sql.functions as F\n",
    "\n",
    "result = result.withColumn('n_digitos', F.length('ano'))"
   ]
  },
  {
   "cell_type": "code",
   "execution_count": 7,
   "id": "c6c6388e",
   "metadata": {},
   "outputs": [],
   "source": [
    "anos_df = result.filter(result.n_digitos == '4')"
   ]
  },
  {
   "cell_type": "code",
   "execution_count": 8,
   "id": "47d8bcbb",
   "metadata": {},
   "outputs": [],
   "source": [
    "from pyspark.sql.types import IntegerType\n",
    "anos_df = anos_df.withColumn(\"rating\", anos_df[\"rating\"].cast(IntegerType()))"
   ]
  },
  {
   "cell_type": "code",
   "execution_count": 11,
   "id": "749475ca",
   "metadata": {},
   "outputs": [
    {
     "name": "stderr",
     "output_type": "stream",
     "text": [
      "[Stage 2:============================================>              (3 + 1) / 4]"
     ]
    },
    {
     "name": "stdout",
     "output_type": "stream",
     "text": [
      "+-----------------+\n",
      "|      avg(rating)|\n",
      "+-----------------+\n",
      "|6.637849016158676|\n",
      "+-----------------+\n",
      "\n"
     ]
    },
    {
     "name": "stderr",
     "output_type": "stream",
     "text": [
      "                                                                                \r"
     ]
    }
   ],
   "source": [
    "anos_df.agg({'rating': 'mean'}).show()"
   ]
  },
  {
   "cell_type": "code",
   "execution_count": 12,
   "id": "6748cc73",
   "metadata": {},
   "outputs": [
    {
     "name": "stderr",
     "output_type": "stream",
     "text": [
      "[Stage 4:============================================>              (3 + 1) / 4]"
     ]
    },
    {
     "name": "stdout",
     "output_type": "stream",
     "text": [
      "+-----------------+\n",
      "|   stddev(rating)|\n",
      "+-----------------+\n",
      "|2.966792018206405|\n",
      "+-----------------+\n",
      "\n"
     ]
    },
    {
     "name": "stderr",
     "output_type": "stream",
     "text": [
      "                                                                                \r"
     ]
    }
   ],
   "source": [
    "anos_df.agg({'rating': 'stddev'}).show()"
   ]
  },
  {
   "cell_type": "code",
   "execution_count": 13,
   "id": "d2c76253",
   "metadata": {},
   "outputs": [],
   "source": [
    "anos_df = anos_df.withColumn(\"normal\", (anos_df[\"rating\"]-6.637849016158676)/2.966792018206405)"
   ]
  },
  {
   "cell_type": "code",
   "execution_count": 14,
   "id": "ade6c9be",
   "metadata": {},
   "outputs": [],
   "source": [
    "anos_df = anos_df.groupBy(\"ano\").mean(\"normal\") "
   ]
  },
  {
   "cell_type": "code",
   "execution_count": 15,
   "id": "5f05bed3",
   "metadata": {},
   "outputs": [
    {
     "name": "stderr",
     "output_type": "stream",
     "text": [
      "[Stage 7:====================================>                 (137 + 10) / 200]"
     ]
    },
    {
     "name": "stdout",
     "output_type": "stream",
     "text": [
      "+----+-------------------+\n",
      "| ano|        avg(normal)|\n",
      "+----+-------------------+\n",
      "|2022|  1.133261436328771|\n",
      "|1888| 0.5084591161088291|\n",
      "|1994| 0.4368802838822254|\n",
      "|1928|0.30351001460408844|\n",
      "|1927|0.29138428306791075|\n",
      "|1887| 0.2776363965943769|\n",
      "|1925|0.26799094324909517|\n",
      "|1922| 0.2615880985629015|\n",
      "|1993| 0.2530994920693304|\n",
      "|1924|0.24703426416932733|\n",
      "|1946|0.24510046498931853|\n",
      "|1920|0.23589651636490958|\n",
      "|1926| 0.2350957940018852|\n",
      "|1995|0.23305251085781029|\n",
      "|1962|0.22987601479735245|\n",
      "|1960| 0.2286105753194348|\n",
      "|1954|0.22574391780558328|\n",
      "|1939|0.22312394260004992|\n",
      "|1950|0.22302115136549097|\n",
      "|1948| 0.2229656077589266|\n",
      "+----+-------------------+\n",
      "only showing top 20 rows\n",
      "\n"
     ]
    },
    {
     "name": "stderr",
     "output_type": "stream",
     "text": [
      "                                                                                \r"
     ]
    }
   ],
   "source": [
    "anos_df.orderBy(col(\"avg(normal)\").desc()).show()"
   ]
  },
  {
   "cell_type": "markdown",
   "id": "65d4cecd",
   "metadata": {},
   "source": [
    "Uso da plataforma ao longo dos anos."
   ]
  },
  {
   "cell_type": "markdown",
   "id": "232b9790",
   "metadata": {},
   "source": [
    "- Aqui analisamos a quantidade de usuários ativos na plataforma ao longo dos anos;\n",
    "- Analisamos também o número de reviews - ao longo dos anos;"
   ]
  },
  {
   "cell_type": "code",
   "execution_count": 16,
   "id": "d31a7c48",
   "metadata": {},
   "outputs": [],
   "source": [
    "df2 = df_spark.select(col(\"review_id\"),col(\"reviewer\"),col(\"review_date\"))"
   ]
  },
  {
   "cell_type": "code",
   "execution_count": 17,
   "id": "3ba6a7dd",
   "metadata": {},
   "outputs": [],
   "source": [
    "df2= df2.withColumn(\"ano\", regexp_extract(\"review_date\", \"(\\\\d{4})\" , 1))"
   ]
  },
  {
   "cell_type": "code",
   "execution_count": 18,
   "id": "995d7116",
   "metadata": {},
   "outputs": [
    {
     "name": "stderr",
     "output_type": "stream",
     "text": [
      "                                                                                \r"
     ]
    },
    {
     "name": "stdout",
     "output_type": "stream",
     "text": [
      "+----+------+\n",
      "|ano |count |\n",
      "+----+------+\n",
      "|2016|146394|\n",
      "|2020|912362|\n",
      "|2012|49853 |\n",
      "|2019|695413|\n",
      "|2017|126893|\n",
      "|2014|104345|\n",
      "|2013|186795|\n",
      "|2005|87054 |\n",
      "|2000|53550 |\n",
      "|2002|55697 |\n",
      "|2009|39548 |\n",
      "|2018|456122|\n",
      "|2006|129593|\n",
      "|2004|107834|\n",
      "|2011|148673|\n",
      "|2008|157339|\n",
      "|1999|67488 |\n",
      "|2007|31700 |\n",
      "|2021|32741 |\n",
      "|2015|197402|\n",
      "+----+------+\n",
      "only showing top 20 rows\n",
      "\n"
     ]
    }
   ],
   "source": [
    "#reviews = \n",
    "df2.groupBy(\"ano\").count().show(truncate=False)"
   ]
  },
  {
   "cell_type": "code",
   "execution_count": 254,
   "id": "f083d400",
   "metadata": {},
   "outputs": [],
   "source": [
    "anosr = [1999,2000, 2002, 2004, 2005, 2006, 2007, 2008, 2009, 2011, 2012, 2013, 2014, 2015, 2016, 2017, 2018, 2019, 2020]\n",
    "reviewsn = [67488,53550,55697,107834,87054,128593,31700,157339,38548,148673, 49853,186795,104345,197402,146394,126893,456122,695413,912362]"
   ]
  },
  {
   "cell_type": "code",
   "execution_count": null,
   "id": "81246808",
   "metadata": {},
   "outputs": [],
   "source": [
    "import matplotlib.pyplot as plt"
   ]
  },
  {
   "cell_type": "code",
   "execution_count": 255,
   "id": "3c0f8ca2",
   "metadata": {},
   "outputs": [
    {
     "data": {
      "image/png": "[encoded data removed]",
      "text/plain": [
       "<Figure size 432x288 with 1 Axes>"
      ]
     },
     "metadata": {
      "needs_background": "light"
     },
     "output_type": "display_data"
    }
   ],
   "source": [
    "plt.plot(anosr, reviewsn)\n",
    " \n",
    "plt.xlabel('Anos')\n",
    "plt.ylabel('Reviews')\n",
    "plt.title('Num. de reviews ao longo dos anos')\n",
    "plt.show()"
   ]
  },
  {
   "cell_type": "code",
   "execution_count": 19,
   "id": "9cfe9c24",
   "metadata": {},
   "outputs": [],
   "source": [
    "#users em 1999\n",
    "users1 = df2.filter(df2.ano == '1999')\n",
    "users1 = users1.dropDuplicates([\"reviewer\"])\n",
    "users1 = users1.groupBy(\"ano\").count()\n",
    "\n",
    "#users em 2000\n",
    "users2 = df2.filter(df2.ano == '2000')\n",
    "users2 = users2.dropDuplicates([\"reviewer\"])\n",
    "users2 = users2.groupBy(\"ano\").count()\n",
    "\n",
    "#users em 2001\n",
    "users3 = df2.filter(df2.ano == '2001')\n",
    "users3 = users3.dropDuplicates([\"reviewer\"])\n",
    "users3 = users3.groupBy(\"ano\").count()\n",
    "\n",
    "#users em 2002\n",
    "users4 = df2.filter(df2.ano == '2002')\n",
    "users4 = users4.dropDuplicates([\"reviewer\"])\n",
    "users4 = users4.groupBy(\"ano\").count()\n",
    "\n",
    "#users em 2003\n",
    "users5 = df2.filter(df2.ano == '2003')\n",
    "users5 = users5.dropDuplicates([\"reviewer\"])\n",
    "users5 = users5.groupBy(\"ano\").count()\n",
    "\n",
    "#users em 2004\n",
    "users6 = df2.filter(df2.ano == '2004')\n",
    "users6 = users6.dropDuplicates([\"reviewer\"])\n",
    "users6 = users6.groupBy(\"ano\").count()\n",
    "\n",
    "#users em 2005\n",
    "users7 = df2.filter(df2.ano == '2005')\n",
    "users7 = users7.dropDuplicates([\"reviewer\"])\n",
    "users7 = users7.groupBy(\"ano\").count()\n",
    "\n",
    "#users em 2006\n",
    "users8 = df2.filter(df2.ano == '2006')\n",
    "users8 = users8.dropDuplicates([\"reviewer\"])\n",
    "users8 = users8.groupBy(\"ano\").count()\n",
    "\n",
    "#users em 2007\n",
    "users9 = df2.filter(df2.ano == '2007')\n",
    "users9 = users9.dropDuplicates([\"reviewer\"])\n",
    "users9 = users9.groupBy(\"ano\").count()\n",
    "\n",
    "#users em 2008\n",
    "users10 = df2.filter(df2.ano == '2008')\n",
    "users10 = users10.dropDuplicates([\"reviewer\"])\n",
    "users10 = users10.groupBy(\"ano\").count()\n",
    "\n",
    "#users em 2009\n",
    "users11 = df2.filter(df2.ano == '2009')\n",
    "users11 = users11.dropDuplicates([\"reviewer\"])\n",
    "users11 = users11.groupBy(\"ano\").count()\n",
    "\n",
    "#users em 2010\n",
    "users12 = df2.filter(df2.ano == '2010')\n",
    "users12 = users12.dropDuplicates([\"reviewer\"])\n",
    "users12 = users12.groupBy(\"ano\").count()\n",
    "\n",
    "#users em 2011\n",
    "users13 = df2.filter(df2.ano == '2011')\n",
    "users13 = users13.dropDuplicates([\"reviewer\"])\n",
    "users13 = users13.groupBy(\"ano\").count()\n",
    "\n",
    "#users em 2012\n",
    "users14 = df2.filter(df2.ano == '2012')\n",
    "users14 = users14.dropDuplicates([\"reviewer\"])\n",
    "users14 = users14.groupBy(\"ano\").count()\n",
    "\n",
    "#users em 2013\n",
    "users15 = df2.filter(df2.ano == '2013')\n",
    "users15 = users15.dropDuplicates([\"reviewer\"])\n",
    "users15 = users15.groupBy(\"ano\").count()\n",
    "\n",
    "#users em 2014\n",
    "users16 = df2.filter(df2.ano == '2014')\n",
    "users16 = users16.dropDuplicates([\"reviewer\"])\n",
    "users16 = users16.groupBy(\"ano\").count()\n",
    "\n",
    "#users em 2015\n",
    "users17 = df2.filter(df2.ano == '2015')\n",
    "users17 = users17.dropDuplicates([\"reviewer\"])\n",
    "users17 = users17.groupBy(\"ano\").count()\n",
    "\n",
    "#users em 2016\n",
    "users18 = df2.filter(df2.ano == '2016')\n",
    "users18 = users18.dropDuplicates([\"reviewer\"])\n",
    "users18 = users18.groupBy(\"ano\").count()\n",
    "\n",
    "#users em 2017\n",
    "users19 = df2.filter(df2.ano == '2017')\n",
    "users19 = users19.dropDuplicates([\"reviewer\"])\n",
    "users19 = users19.groupBy(\"ano\").count()\n",
    "\n",
    "#users em 2018\n",
    "users20 = df2.filter(df2.ano == '2018')\n",
    "users20 = users20.dropDuplicates([\"reviewer\"])\n",
    "users20 = users20.groupBy(\"ano\").count()\n",
    "\n",
    "#users em 2019\n",
    "users21 = df2.filter(df2.ano == '2019')\n",
    "users21 = users21.dropDuplicates([\"reviewer\"])\n",
    "users21 = users21.groupBy(\"ano\").count()\n",
    "\n",
    "#users em 2020\n",
    "users22 = df2.filter(df2.ano == '2020')\n",
    "users22 = users22.dropDuplicates([\"reviewer\"])\n",
    "users22 = users22.groupBy(\"ano\").count()\n",
    "\n",
    "#users em 2021\n",
    "users23 = df2.filter(df2.ano == '2021')\n",
    "users23 = users23.dropDuplicates([\"reviewer\"])\n",
    "users23 = users23.groupBy(\"ano\").count()"
   ]
  },
  {
   "cell_type": "code",
   "execution_count": 20,
   "id": "354163a8",
   "metadata": {},
   "outputs": [],
   "source": [
    "#users1.show()"
   ]
  },
  {
   "cell_type": "code",
   "execution_count": 21,
   "id": "907105d8",
   "metadata": {},
   "outputs": [],
   "source": [
    "#users2.show()"
   ]
  },
  {
   "cell_type": "code",
   "execution_count": 22,
   "id": "635a2b40",
   "metadata": {},
   "outputs": [],
   "source": [
    "#users3.show()"
   ]
  },
  {
   "cell_type": "code",
   "execution_count": 23,
   "id": "48ed43d5",
   "metadata": {},
   "outputs": [],
   "source": [
    "#users4.show()"
   ]
  },
  {
   "cell_type": "code",
   "execution_count": 24,
   "id": "97e92bbb",
   "metadata": {},
   "outputs": [],
   "source": [
    "#users5.show()"
   ]
  },
  {
   "cell_type": "code",
   "execution_count": 25,
   "id": "a1084474",
   "metadata": {},
   "outputs": [],
   "source": [
    "#users6.show()"
   ]
  },
  {
   "cell_type": "code",
   "execution_count": 26,
   "id": "f313e367",
   "metadata": {},
   "outputs": [],
   "source": [
    "#users7.show()"
   ]
  },
  {
   "cell_type": "code",
   "execution_count": 27,
   "id": "6c905283",
   "metadata": {},
   "outputs": [],
   "source": [
    "#users8.show()"
   ]
  },
  {
   "cell_type": "code",
   "execution_count": 28,
   "id": "9cbb50a5",
   "metadata": {},
   "outputs": [],
   "source": [
    "#users9.show()"
   ]
  },
  {
   "cell_type": "code",
   "execution_count": 29,
   "id": "a9664eb9",
   "metadata": {},
   "outputs": [],
   "source": [
    "#users10.show()"
   ]
  },
  {
   "cell_type": "code",
   "execution_count": 30,
   "id": "de08e2f5",
   "metadata": {},
   "outputs": [],
   "source": [
    "#users11.show()"
   ]
  },
  {
   "cell_type": "code",
   "execution_count": 31,
   "id": "9fe1bcb6",
   "metadata": {},
   "outputs": [],
   "source": [
    "#users12.show()"
   ]
  },
  {
   "cell_type": "code",
   "execution_count": 32,
   "id": "d2b90e0d",
   "metadata": {},
   "outputs": [],
   "source": [
    "#users13.show()"
   ]
  },
  {
   "cell_type": "code",
   "execution_count": 33,
   "id": "bed780fc",
   "metadata": {},
   "outputs": [],
   "source": [
    "#users14.show()"
   ]
  },
  {
   "cell_type": "code",
   "execution_count": 34,
   "id": "2775262b",
   "metadata": {},
   "outputs": [],
   "source": [
    "#users15.show()"
   ]
  },
  {
   "cell_type": "code",
   "execution_count": 35,
   "id": "2cc0334d",
   "metadata": {},
   "outputs": [],
   "source": [
    "#users16.show()"
   ]
  },
  {
   "cell_type": "code",
   "execution_count": 36,
   "id": "6f9a1b7b",
   "metadata": {},
   "outputs": [],
   "source": [
    "#users17.show()"
   ]
  },
  {
   "cell_type": "code",
   "execution_count": 37,
   "id": "4a77760e",
   "metadata": {},
   "outputs": [],
   "source": [
    "#users18.show()"
   ]
  },
  {
   "cell_type": "code",
   "execution_count": 38,
   "id": "e6ded9c5",
   "metadata": {},
   "outputs": [],
   "source": [
    "#users19.show()"
   ]
  },
  {
   "cell_type": "code",
   "execution_count": 39,
   "id": "2ecaa989",
   "metadata": {},
   "outputs": [],
   "source": [
    "#users20.show()"
   ]
  },
  {
   "cell_type": "code",
   "execution_count": 40,
   "id": "16e9e3a4",
   "metadata": {},
   "outputs": [],
   "source": [
    "#users21.show()"
   ]
  },
  {
   "cell_type": "code",
   "execution_count": 41,
   "id": "33eef4a0",
   "metadata": {},
   "outputs": [],
   "source": [
    "#users22.show()"
   ]
  },
  {
   "cell_type": "code",
   "execution_count": 42,
   "id": "e3007f3e",
   "metadata": {},
   "outputs": [],
   "source": [
    "#users23.show()"
   ]
  },
  {
   "cell_type": "markdown",
   "id": "70569d5a",
   "metadata": {},
   "source": [
    "Pelos dados conterem reviews somente até janeiro de 2021, vamos desconsiderar a contagem de usuários ativos neste ano."
   ]
  },
  {
   "cell_type": "code",
   "execution_count": 43,
   "id": "4662e1a1",
   "metadata": {},
   "outputs": [],
   "source": [
    "anos = [1999, 2000, 2001, 2002, 2003, 2004, 2005, 2006, 2007, 2008, 2009, 2010, 2011, 2012, 2013, 2014, 2015, 2016, 2017, 2018, 2019, 2020]\n",
    "users = [29043, 23463, 23297, 26470, 29201, 55514, 45370, 66877, 18582, 56773, 17213, 47253, 53406, 20609, 68583, 41868, 69420, 53475, 50816, 207896, 296604, 372818]"
   ]
  },
  {
   "cell_type": "code",
   "execution_count": 44,
   "id": "1d08ac43",
   "metadata": {},
   "outputs": [
    {
     "data": {
      "image/png": "[encoded data removed]",
      "text/plain": [
       "<Figure size 432x288 with 1 Axes>"
      ]
     },
     "metadata": {
      "needs_background": "light"
     },
     "output_type": "display_data"
    }
   ],
   "source": [
    "plt.plot(anos, users)\n",
    " \n",
    "plt.xlabel('Anos')\n",
    "plt.ylabel('Usuários ativos')\n",
    "plt.title('Usuários ativos na plataforma ao longo dos anos')\n",
    "plt.show()"
   ]
  },
  {
   "cell_type": "markdown",
   "id": "2c5db69f",
   "metadata": {},
   "source": [
    "Analisar perfil dos usuários. É mais comum termos usuários que sempre estão avaliando ou usuários que aparecem esporadicamente?"
   ]
  },
  {
   "cell_type": "markdown",
   "id": "84ca3202",
   "metadata": {},
   "source": [
    "Para melhorar a análise, vamos agrupar todos os usuários da plataforma que estavam presentes desde determinado ano. A partir disso, vamos listar em quantos anos posteriores o usuário esteve presente (quanto maior o número, mais presente ele seria). Vamos mudar o objetivo da questão para ver se um usuário se mantém utilizando a plataforma ou se isso se torna raro. Por exemplo. um usuário já estava inscrito na plataforma em 2015. Então, analisamos os 5 anos posteriores e avaliamos a sua atividade no site."
   ]
  },
  {
   "cell_type": "code",
   "execution_count": 45,
   "id": "d54b0bce",
   "metadata": {},
   "outputs": [],
   "source": [
    "df2 = df2.groupBy(\"reviewer\").count()"
   ]
  },
  {
   "cell_type": "code",
   "execution_count": 46,
   "id": "5ab566c8",
   "metadata": {},
   "outputs": [
    {
     "name": "stderr",
     "output_type": "stream",
     "text": [
      "                                                                                \r"
     ]
    }
   ],
   "source": [
    "us = df2.select(col(\"reviewer\")).toPandas().values\n",
    "atividade = df2.select(col(\"count\")).toPandas().values"
   ]
  },
  {
   "cell_type": "code",
   "execution_count": 47,
   "id": "6a6a6507",
   "metadata": {},
   "outputs": [],
   "source": [
    "username = []\n",
    "activity = []\n",
    "\n",
    "for i in range(len(us)):\n",
    "    a = i\n",
    "    b = int(atividade[i])\n",
    "    username.append(a)\n",
    "    activity.append(b) "
   ]
  },
  {
   "cell_type": "code",
   "execution_count": 48,
   "id": "777462f5",
   "metadata": {},
   "outputs": [],
   "source": [
    "import pandas as pd\n",
    "\n",
    "new_df = pd.DataFrame(list(zip(username, activity)),columns=['user_id', 'activity'])"
   ]
  },
  {
   "cell_type": "code",
   "execution_count": 49,
   "id": "483e5f96",
   "metadata": {},
   "outputs": [
    {
     "data": {
      "text/plain": [
       "<AxesSubplot:xlabel='user_id', ylabel='activity'>"
      ]
     },
     "execution_count": 49,
     "metadata": {},
     "output_type": "execute_result"
    },
    {
     "data": {
      "image/png": "[encoded data removed]",
      "text/plain": [
       "<Figure size 432x288 with 1 Axes>"
      ]
     },
     "metadata": {
      "needs_background": "light"
     },
     "output_type": "display_data"
    }
   ],
   "source": [
    "new_df.plot.scatter(x='user_id', y='activity') "
   ]
  },
  {
   "cell_type": "code",
   "execution_count": 75,
   "id": "65615b74",
   "metadata": {},
   "outputs": [],
   "source": [
    "df3 = df_spark.select(col(\"movie\"),col(\"reviewer\"),col(\"review_date\"))"
   ]
  },
  {
   "cell_type": "code",
   "execution_count": 76,
   "id": "7ed98738",
   "metadata": {},
   "outputs": [],
   "source": [
    "df3 = df3.withColumn('ano', regexp_extract(\"review_date\", \"(\\\\d{4})\" , 1))"
   ]
  },
  {
   "cell_type": "code",
   "execution_count": 77,
   "id": "277ec876",
   "metadata": {},
   "outputs": [],
   "source": [
    "df3 = df3.withColumn('n_digitos', F.length('ano'))"
   ]
  },
  {
   "cell_type": "code",
   "execution_count": 78,
   "id": "484116e3",
   "metadata": {},
   "outputs": [],
   "source": [
    "df3 = df3.filter(df3.n_digitos == '4')"
   ]
  },
  {
   "cell_type": "code",
   "execution_count": 79,
   "id": "019c3a1b",
   "metadata": {},
   "outputs": [],
   "source": [
    "from pyspark.sql.functions import when\n",
    "from pyspark.sql.functions import lit"
   ]
  },
  {
   "cell_type": "code",
   "execution_count": 80,
   "id": "17f76099",
   "metadata": {},
   "outputs": [],
   "source": [
    "df3 = df3.withColumn(\"2015\", when((df3.ano == \"2015\"), lit(1)).otherwise(lit(0)))"
   ]
  },
  {
   "cell_type": "code",
   "execution_count": 81,
   "id": "fa89660f",
   "metadata": {},
   "outputs": [],
   "source": [
    "df3 = df3.withColumn(\"2016\", when((df3.ano == \"2016\"), lit(1)).otherwise(lit(0)))"
   ]
  },
  {
   "cell_type": "code",
   "execution_count": 82,
   "id": "2a97d7a2",
   "metadata": {},
   "outputs": [],
   "source": [
    "df3 = df3.withColumn(\"2017\", when((df3.ano == \"2017\"), lit(1)).otherwise(lit(0)))"
   ]
  },
  {
   "cell_type": "code",
   "execution_count": 83,
   "id": "6d94ef7b",
   "metadata": {},
   "outputs": [],
   "source": [
    "df3 = df3.withColumn(\"2018\", when((df3.ano == \"2018\"), lit(1)).otherwise(lit(0)))"
   ]
  },
  {
   "cell_type": "code",
   "execution_count": 84,
   "id": "111a40ec",
   "metadata": {},
   "outputs": [],
   "source": [
    "df3 = df3.withColumn(\"2019\", when((df3.ano == \"2019\"), lit(1)).otherwise(lit(0)))"
   ]
  },
  {
   "cell_type": "code",
   "execution_count": 85,
   "id": "cc461bef",
   "metadata": {},
   "outputs": [],
   "source": [
    "df3 = df3.withColumn(\"2020\", when((df3.ano == \"2020\"), lit(1)).otherwise(lit(0)))"
   ]
  },
  {
   "cell_type": "code",
   "execution_count": 86,
   "id": "36158b72",
   "metadata": {},
   "outputs": [],
   "source": [
    "df3 = df3.filter(df3.ano >= 2015)"
   ]
  },
  {
   "cell_type": "code",
   "execution_count": 87,
   "id": "0149e720",
   "metadata": {},
   "outputs": [],
   "source": [
    "df3 = df3.groupBy(\"reviewer\").sum(\"2015\",\"2016\",\"2017\",\"2018\",\"2019\",\"2020\")"
   ]
  },
  {
   "cell_type": "code",
   "execution_count": 88,
   "id": "dc4be474",
   "metadata": {},
   "outputs": [],
   "source": [
    "df3 = df3.withColumn(\"sum(2015)\", when(df3['sum(2015)'] > 1, 1))\n",
    "df3 = df3.withColumn(\"sum(2016)\", when(df3['sum(2016)'] > 1, 1))\n",
    "df3 = df3.withColumn(\"sum(2017)\", when(df3['sum(2017)'] > 1, 1))\n",
    "df3 = df3.withColumn(\"sum(2018)\", when(df3['sum(2018)'] > 1, 1))\n",
    "df3 = df3.withColumn(\"sum(2019)\", when(df3['sum(2019)'] > 1, 1))\n",
    "df3 = df3.withColumn(\"sum(2020)\", when(df3['sum(2020)'] > 1, 1))"
   ]
  },
  {
   "cell_type": "code",
   "execution_count": 89,
   "id": "aa7f485d",
   "metadata": {},
   "outputs": [],
   "source": [
    "df3 = df3.withColumn(\"atividade\", df3[\"sum(2015)\"]+df3[\"sum(2016)\"]+df3[\"sum(2017)\"]+df3[\"sum(2018)\"]+df3[\"sum(2019)\"]+df3[\"sum(2020)\"])"
   ]
  },
  {
   "cell_type": "code",
   "execution_count": 90,
   "id": "ac67f7e5",
   "metadata": {},
   "outputs": [
    {
     "name": "stderr",
     "output_type": "stream",
     "text": [
      "                                                                                \r"
     ]
    },
    {
     "name": "stdout",
     "output_type": "stream",
     "text": [
      "+---------+------+\n",
      "|atividade| count|\n",
      "+---------+------+\n",
      "|     null|881532|\n",
      "|        6|   795|\n",
      "+---------+------+\n",
      "\n"
     ]
    }
   ],
   "source": [
    "df3.groupBy(\"atividade\").count().show()"
   ]
  },
  {
   "cell_type": "code",
   "execution_count": 91,
   "id": "e40f024d",
   "metadata": {},
   "outputs": [
    {
     "data": {
      "image/png": "[encoded data removed]",
      "text/plain": [
       "<Figure size 432x288 with 1 Axes>"
      ]
     },
     "metadata": {},
     "output_type": "display_data"
    }
   ],
   "source": [
    "grupos = ['Usuários fiéis', 'Usuários esporádicos']\n",
    "atv = [795, 881532]\n",
    "\n",
    "plt.pie(atv, labels=grupos)\n",
    "plt.show()"
   ]
  },
  {
   "cell_type": "markdown",
   "id": "0c39b8b7",
   "metadata": {},
   "source": [
    "Analisar se um filme envelheceu bem - reviews ficam mais positivas ao longo do tempo?"
   ]
  },
  {
   "cell_type": "code",
   "execution_count": 92,
   "id": "4b703a51",
   "metadata": {},
   "outputs": [],
   "source": [
    "df4 = df_spark.select(col(\"movie\"), col(\"rating\"), col(\"review_date\"))"
   ]
  },
  {
   "cell_type": "code",
   "execution_count": 93,
   "id": "08c1b20d",
   "metadata": {},
   "outputs": [],
   "source": [
    "df4 = df4.withColumn('ano', regexp_extract(\"review_date\", \"(\\\\d{4})\" , 1))\n",
    "df4 = df4.withColumn(\"rating\", df4[\"rating\"].cast(IntegerType()))\n",
    "df4 = df4.withColumn('n_digitos', F.length('ano'))\n",
    "df4 = df4.filter(df4.n_digitos == '4')"
   ]
  },
  {
   "cell_type": "code",
   "execution_count": 95,
   "id": "260fff7c",
   "metadata": {},
   "outputs": [],
   "source": [
    "m1 = df4.filter(df4.movie == 'Batman (1989)')\n",
    "m2 = df4.filter(df4.movie == 'Ghostbusters (1984)')\n",
    "m3 = df4.filter(df4.movie == 'Star Trek II: The Wrath of Khan (1982)')\n",
    "m4 = df4.filter(df4.movie == 'The Goonies (1985)')\n",
    "m5 = df4.filter(df4.movie == 'Gremlins (1984)')\n",
    "m6 = df4.filter(df4.movie == 'Aliens (1986)')\n",
    "m7 = df4.filter(df4.movie == 'Indiana Jones and the Raiders of the Lost Ark (1981)')\n",
    "m8 = df4.filter(df4.movie == 'E.T. the Extra-Terrestrial (1982)')\n",
    "m9 = df4.filter(df4.movie == 'Back to the Future (1985)')\n",
    "m10 = df4.filter(df4.movie == 'Star Wars: Episode V - The Empire Strikes Back (1980)')"
   ]
  },
  {
   "cell_type": "code",
   "execution_count": 96,
   "id": "95bd1502",
   "metadata": {},
   "outputs": [],
   "source": [
    "m1 = m1.groupBy(\"ano\").mean('rating')\n",
    "m2 = m2.groupBy(\"ano\").mean('rating')\n",
    "m3 = m3.groupBy(\"ano\").mean('rating')\n",
    "m4 = m4.groupBy(\"ano\").mean('rating')\n",
    "m5 = m5.groupBy(\"ano\").mean('rating')\n",
    "m6 = m6.groupBy(\"ano\").mean('rating')\n",
    "m7 = m7.groupBy(\"ano\").mean('rating')\n",
    "m8 = m8.groupBy(\"ano\").mean('rating')\n",
    "m9 = m9.groupBy(\"ano\").mean('rating')\n",
    "m10 = m10.groupBy(\"ano\").mean('rating')"
   ]
  },
  {
   "cell_type": "code",
   "execution_count": 97,
   "id": "9b7ddfcd",
   "metadata": {},
   "outputs": [],
   "source": [
    "m1 = m1.orderBy(col(\"ano\").desc())\n",
    "m2 = m2.orderBy(col(\"ano\").desc())\n",
    "m3 = m3.orderBy(col(\"ano\").desc())\n",
    "m4 = m4.orderBy(col(\"ano\").desc())\n",
    "m5 = m5.orderBy(col(\"ano\").desc())\n",
    "m6 = m6.orderBy(col(\"ano\").desc())\n",
    "m7 = m7.orderBy(col(\"ano\").desc())\n",
    "m8 = m8.orderBy(col(\"ano\").desc())\n",
    "m9 = m9.orderBy(col(\"ano\").desc())\n",
    "m10 = m10.orderBy(col(\"ano\").desc())"
   ]
  },
  {
   "cell_type": "code",
   "execution_count": 123,
   "id": "86363f15",
   "metadata": {},
   "outputs": [],
   "source": [
    "m1n = [9.0, 8.39, 8.27, 9.0, 7.37, 8.75, 8.44, 8.19, 7.47, 8.0, 7.88, 7.26, 7.54, 8.14, 7.47, 8.03]"
   ]
  },
  {
   "cell_type": "code",
   "execution_count": 125,
   "id": "cc43bdeb",
   "metadata": {},
   "outputs": [],
   "source": [
    "m2n = [8.0, 9.33, 9.16, 8.18, 9.0, 7.93, 7.85, 7.42, 8.16, 8.08, 7.38, 7.5, 8.5, 7.67, 7.62, 7.66]\n",
    "#2009 tá nulo"
   ]
  },
  {
   "cell_type": "code",
   "execution_count": 111,
   "id": "76a40fda",
   "metadata": {},
   "outputs": [],
   "source": [
    "m3n = [10.0, 7.33, 8.3, 9.14, 8.26, 10.0, 8.2, 8.0, 7.7, 6.33, 9.0, 8.4, 8.0, 8.5, 8.93, 8.15]"
   ]
  },
  {
   "cell_type": "code",
   "execution_count": 119,
   "id": "fa3a2ae0",
   "metadata": {},
   "outputs": [],
   "source": [
    "m4n = [10.0, 8.75, 7.92, 9.0, 7.18, 5.25, 8.11, 6.6, 8.28, 7.5, 8.71, 7.8, 7.55, 8.16, 7.30, 7.0]"
   ]
  },
  {
   "cell_type": "code",
   "execution_count": 113,
   "id": "9fe2b211",
   "metadata": {},
   "outputs": [],
   "source": [
    "m5n = [10.0, 7.8, 7.71, 8.0, 9.16, 7.0, 7.71, 8.0, 7.33, 7.75, 7.37, 6.8, 7.72, 8.07, 7.84, 7.60]"
   ]
  },
  {
   "cell_type": "code",
   "execution_count": 114,
   "id": "2c121685",
   "metadata": {},
   "outputs": [],
   "source": [
    "m6n = [9.33, 8.7, 9.04, 9.5, 8.8, 8.16, 8.65, 8.05, 8.86, 9.0, 8.77, 8.84, 8.25, 8.61, 8.19, 8.63]"
   ]
  },
  {
   "cell_type": "code",
   "execution_count": 104,
   "id": "07de0d09",
   "metadata": {
    "scrolled": true
   },
   "outputs": [
    {
     "name": "stderr",
     "output_type": "stream",
     "text": [
      "[Stage 72:===========================================>              (3 + 1) / 4]"
     ]
    },
    {
     "name": "stdout",
     "output_type": "stream",
     "text": [
      "+----+-----------------+\n",
      "| ano|      avg(rating)|\n",
      "+----+-----------------+\n",
      "|2019|7.666666666666667|\n",
      "|2016|8.833333333333334|\n",
      "|2014|8.444444444444445|\n",
      "|2011|              9.0|\n",
      "|2010|              8.8|\n",
      "|2009|            9.375|\n",
      "|2008| 9.05084745762712|\n",
      "|2007|             10.0|\n",
      "|2006|9.166666666666666|\n",
      "|2005|9.076923076923077|\n",
      "+----+-----------------+\n",
      "\n"
     ]
    },
    {
     "name": "stderr",
     "output_type": "stream",
     "text": [
      "                                                                                \r"
     ]
    }
   ],
   "source": [
    "m7n = [9.07, 9.16, 10.0, 9.05, 9.37, 8.8, 9.0, 8.44, 8.83, 7.66]"
   ]
  },
  {
   "cell_type": "code",
   "execution_count": 115,
   "id": "7595f929",
   "metadata": {},
   "outputs": [],
   "source": [
    "m8n = [9.2, 8.71, 8.37, 4.0, 8.38, 7.0, 8.07, 8.4, 7.95, 8.28, 8.42, 7.8, 8.22, 8.90, 8.04, 8.31]"
   ]
  },
  {
   "cell_type": "code",
   "execution_count": 131,
   "id": "99521e8a",
   "metadata": {},
   "outputs": [],
   "source": [
    "m9n = [9.37, 9.48, 9.68, 9.75, 10.0, 10.0, 9.5, 9.44, 8.95, 9.27, 9.3, 9.3, 9.53, 8.9, 8.94, 8.9]"
   ]
  },
  {
   "cell_type": "code",
   "execution_count": 117,
   "id": "390fef88",
   "metadata": {
    "scrolled": true
   },
   "outputs": [],
   "source": [
    "m10n = [9.33, 9.8, 8.9, 9.4, 8.91, 9.37, 9.24, 9.75, 9.53, 8.21, 9.28, 9.25, 9.34, 9.22, 8.87, 9.0]\n",
    "years = [2004, 2005, 2006, 2007, 2008, 2009, 2010, 2011, 2013, 2014, 2015, 2016, 2017, 2018, 2019, 2020]"
   ]
  },
  {
   "cell_type": "code",
   "execution_count": 129,
   "id": "4ab50874",
   "metadata": {},
   "outputs": [
    {
     "data": {
      "image/png": "[encoded data removed]",
      "text/plain": [
       "<Figure size 432x288 with 1 Axes>"
      ]
     },
     "metadata": {
      "needs_background": "light"
     },
     "output_type": "display_data"
    }
   ],
   "source": [
    "plt.plot(years,m1n,label=\"Batman (1989)\")\n",
    "plt.plot(years,m2n,label=\"Ghostbusters (1984)\")\n",
    "plt.plot(years,m3n,label=\"Star Trek II: The Wrath of Khan (1982)\")\n",
    "plt.plot(years,m4n,label=\"The Goonies (1985)\")\n",
    "plt.plot(years, m5n, label=\"Gremlins (1984)\")\n",
    "\n",
    "plt.title(\"Envelhecimento de filmes - Part. 1\", fontsize=15)\n",
    "plt.xlabel(\"Anos\",fontsize=13)\n",
    "plt.ylabel(\"Avaliações\",fontsize=13)\n",
    "plt.legend()\n",
    "plt.show()"
   ]
  },
  {
   "cell_type": "code",
   "execution_count": 132,
   "id": "f851c972",
   "metadata": {},
   "outputs": [
    {
     "data": {
      "image/png": "[encoded data removed]",
      "text/plain": [
       "<Figure size 432x288 with 1 Axes>"
      ]
     },
     "metadata": {
      "needs_background": "light"
     },
     "output_type": "display_data"
    }
   ],
   "source": [
    "plt.plot(years,m6n,label=\"Aliens (1986)\")\n",
    "plt.plot(years,m8n,label=\"E.T. the Extra-Terrestrial (1982)\")\n",
    "plt.plot(years,m9n,label=\"Back to the Future (1985)\")\n",
    "plt.plot(years,m10n,label=\"Star Wars: Episode V - The Empire Strikes Back (1980)\")\n",
    "\n",
    "plt.title(\"Envelhecimento de filmes - Part. 2\", fontsize=15)\n",
    "plt.xlabel(\"Anos\",fontsize=13)\n",
    "plt.ylabel(\"Avaliações\",fontsize=13)\n",
    "plt.legend()\n",
    "plt.show()"
   ]
  },
  {
   "cell_type": "markdown",
   "id": "1f655a89",
   "metadata": {},
   "source": [
    "As top-reviews impactaram nas notas futuras dos 3 filmes mais populares da plataforma?\n",
    "- Como top-reviews, vamos considerar aquela com o melhor resultado na relação helpful/helpful+não helpful\n",
    "- Vamos dividir os dados em 2 grupos: antes da top-review, depois da top-review\n",
    "- Vamos tirar a média dos dois grupos; para o grupo do depois, vamos tirar a média para cada ano após a review\n",
    "- Vamos selecionar os 3 filmes mais populares da plataforma e realizar a análise sobre eles."
   ]
  },
  {
   "cell_type": "code",
   "execution_count": 6,
   "id": "2e87b342",
   "metadata": {},
   "outputs": [],
   "source": [
    "df5 = df_spark.select(col(\"helpful\"),col(\"rating\"),col(\"review_date\"),col(\"movie\"))\n",
    "df5 = df5.dropna()"
   ]
  },
  {
   "cell_type": "code",
   "execution_count": 9,
   "id": "3da13b4a",
   "metadata": {},
   "outputs": [],
   "source": [
    "df5 = df5.withColumn('ano', regexp_extract(\"review_date\", \"(\\\\d{4})\" , 1))"
   ]
  },
  {
   "cell_type": "code",
   "execution_count": 15,
   "id": "ef5036b0",
   "metadata": {},
   "outputs": [],
   "source": [
    "df5 = df5.withColumn(\"rating\", df5[\"rating\"].cast(IntegerType()))\n",
    "df5 = df5.withColumn('n_digitos', F.length('ano'))\n",
    "df5 = df5.filter(df5.n_digitos == '4')"
   ]
  },
  {
   "cell_type": "code",
   "execution_count": 145,
   "id": "9c2ea71e",
   "metadata": {},
   "outputs": [
    {
     "name": "stderr",
     "output_type": "stream",
     "text": [
      "[Stage 81:>                                                         (0 + 1) / 1]"
     ]
    },
    {
     "name": "stdout",
     "output_type": "stream",
     "text": [
      "+--------+------+-----------------+--------------------+----+---------+\n",
      "| helpful|rating|      review_date|               movie| ano|n_digitos|\n",
      "+--------+------+-----------------+--------------------+----+---------+\n",
      "|  [1, 3]|    10| 13 December 2001|Dead Man on Campu...|2001|        4|\n",
      "|  [1, 3]|     8|    11 March 1999|Dead Man on Campu...|1999|        4|\n",
      "|  [1, 3]|    10|     26 July 2002|Dead Man on Campu...|2002|        4|\n",
      "|  [1, 3]|     9|  20 January 2003|Dead Man on Campu...|2003|        4|\n",
      "|  [1, 3]|     9|  8 February 2003|Dead Man on Campu...|2003|        4|\n",
      "|  [4, 8]|     5|     1 April 2003|Dead Man on Campu...|2003|        4|\n",
      "|  [5, 7]|     4|11 September 2003|Dead Man on Campu...|2003|        4|\n",
      "|  [2, 5]|     5|  9 December 2003|Dead Man on Campu...|2003|        4|\n",
      "|[27, 36]|    10|      30 May 2004|Dead Man on Campu...|2004|        4|\n",
      "|  [1, 6]|    10| 14 February 2003|Dharma & Greg (19...|2003|        4|\n",
      "|  [2, 6]|     8|  30 January 2004|Dharma & Greg (19...|2004|        4|\n",
      "| [6, 14]|     6|    8 August 2004|Dharma & Greg (19...|2004|        4|\n",
      "|[64, 75]|    10|30 September 1999|Emma (1996 TV Movie)|1999|        4|\n",
      "|[38, 41]|     9|     26 July 2000|Emma (1996 TV Movie)|2000|        4|\n",
      "|  [2, 7]|     8|  1 February 2001|Emma (1996 TV Movie)|2001|        4|\n",
      "|[26, 29]|    10|      29 May 2001|Emma (1996 TV Movie)|2001|        4|\n",
      "|  [2, 4]|     8|    4 August 2002|Emma (1996 TV Movie)|2002|        4|\n",
      "|[42, 46]|     8|  1 November 2003|Emma (1996 TV Movie)|2003|        4|\n",
      "|  [5, 5]|     6| 8 September 2004|   You Wish (1997– )|2004|        4|\n",
      "|  [1, 2]|    10|      5 June 2003| Hammarkullen (1997)|2003|        4|\n",
      "+--------+------+-----------------+--------------------+----+---------+\n",
      "only showing top 20 rows\n",
      "\n"
     ]
    },
    {
     "name": "stderr",
     "output_type": "stream",
     "text": [
      "                                                                                \r"
     ]
    }
   ],
   "source": [
    "df5.show()"
   ]
  },
  {
   "cell_type": "code",
   "execution_count": 16,
   "id": "be699b23",
   "metadata": {},
   "outputs": [
    {
     "name": "stderr",
     "output_type": "stream",
     "text": [
      "                                                                                \r"
     ]
    }
   ],
   "source": [
    "util = df5.select(col(\"helpful\")).toPandas().values"
   ]
  },
  {
   "cell_type": "code",
   "execution_count": 17,
   "id": "a4d9e97c",
   "metadata": {},
   "outputs": [],
   "source": [
    "new_util = []\n",
    "\n",
    "for i in range(len(util)):\n",
    "    #print(util[i])\n",
    "    for j in util[i]:\n",
    "        if(j[1] == '0'):\n",
    "            utilidade = 0\n",
    "        else:\n",
    "            if \",\" in j[0]:\n",
    "                j[0] = j[0].replace(\",\", \"\")\n",
    "            if \",\" in j[1]:\n",
    "                j[1] = j[1].replace(\",\", \"\")\n",
    "            \n",
    "            utilidade = int(j[0])/int(j[1])\n",
    "        new_util.append(utilidade)"
   ]
  },
  {
   "cell_type": "code",
   "execution_count": 192,
   "id": "44a264f4",
   "metadata": {},
   "outputs": [
    {
     "data": {
      "text/plain": [
       "[0.3333333333333333,\n",
       " 0.3333333333333333,\n",
       " 0.3333333333333333,\n",
       " 0.3333333333333333,\n",
       " 0.3333333333333333,\n",
       " 0.5,\n",
       " 0.7142857142857143,\n",
       " 0.4,\n",
       " 0.75,\n",
       " 0.16666666666666666,\n",
       " 0.3333333333333333,\n",
       " 0.42857142857142855,\n",
       " 0.8533333333333334,\n",
       " 0.926829268292683,\n",
       " 0.2857142857142857,\n",
       " 0.896551724137931,\n",
       " 0.5,\n",
       " 0.9130434782608695,\n",
       " 1.0,\n",
       " 0.5,\n",
       " 1.0,\n",
       " 1.0,\n",
       " 0.1111111111111111,\n",
       " 0.5555555555555556,\n",
       " 0.6666666666666666,\n",
       " 0.5,\n",
       " 0.6,\n",
       " 0.6,\n",
       " 0.09090909090909091,\n",
       " 0.75,\n",
       " 0.6666666666666666,\n",
       " 0.125,\n",
       " 0.75,\n",
       " 0.6666666666666666,\n",
       " 0.6153846153846154,\n",
       " 0.6666666666666666,\n",
       " 0.5714285714285714,\n",
       " 0.5,\n",
       " 0.6428571428571429,\n",
       " 0.5555555555555556,\n",
       " 0.625,\n",
       " 0.6923076923076923,\n",
       " 0.9,\n",
       " 0.6744186046511628,\n",
       " 0.75,\n",
       " 0.7727272727272727,\n",
       " 0.9375,\n",
       " 1.0,\n",
       " 0.6666666666666666,\n",
       " 0.25,\n",
       " 0.0,\n",
       " 0.6666666666666666,\n",
       " 0.5,\n",
       " 0.25,\n",
       " 0.4,\n",
       " 0.8,\n",
       " 0.9,\n",
       " 0.8571428571428571,\n",
       " 1.0,\n",
       " 0.8888888888888888,\n",
       " 0.9436619718309859,\n",
       " 0.7777777777777778,\n",
       " 0.6153846153846154,\n",
       " 0.14285714285714285,\n",
       " 0.7857142857142857,\n",
       " 0.0,\n",
       " 0.9,\n",
       " 0.6666666666666666,\n",
       " 0.3,\n",
       " 0.14285714285714285,\n",
       " 0.75,\n",
       " 0.5714285714285714,\n",
       " 0.5555555555555556,\n",
       " 1.0,\n",
       " 0.8888888888888888,\n",
       " 0.7857142857142857,\n",
       " 0.3333333333333333,\n",
       " 1.0,\n",
       " 1.0,\n",
       " 0.8888888888888888,\n",
       " 0.9166666666666666,\n",
       " 0.0,\n",
       " 0.7894736842105263,\n",
       " 0.3125,\n",
       " 0.0,\n",
       " 0.36363636363636365,\n",
       " 0.5,\n",
       " 0.5,\n",
       " 0.0,\n",
       " 0.8947368421052632,\n",
       " 0.8888888888888888,\n",
       " 0.5,\n",
       " 0.5,\n",
       " 0.8095238095238095,\n",
       " 1.0,\n",
       " 1.0,\n",
       " 1.0,\n",
       " 0.6,\n",
       " 0.3333333333333333,\n",
       " 0.5,\n",
       " 0.0,\n",
       " 1.0,\n",
       " 1.0,\n",
       " 0.2,\n",
       " 0.25,\n",
       " 0.42857142857142855,\n",
       " 0.2727272727272727,\n",
       " 0.0,\n",
       " 0.0,\n",
       " 0.5555555555555556,\n",
       " 0.09090909090909091,\n",
       " 0.8333333333333334,\n",
       " 0.3076923076923077,\n",
       " 0.8,\n",
       " 0.9,\n",
       " 0.2727272727272727,\n",
       " 0.8666666666666667,\n",
       " 0.8888888888888888,\n",
       " 0.9642857142857143,\n",
       " 0.92,\n",
       " 0.75,\n",
       " 0.9375,\n",
       " 0.8947368421052632,\n",
       " 0.8333333333333334,\n",
       " 0.875,\n",
       " 0.8947368421052632,\n",
       " 0.5128205128205128,\n",
       " 0.5,\n",
       " 0.3333333333333333,\n",
       " 0.6666666666666666,\n",
       " 0.5,\n",
       " 0.5714285714285714,\n",
       " 0.4583333333333333,\n",
       " 0.3333333333333333,\n",
       " 0.5,\n",
       " 0.4,\n",
       " 0.2,\n",
       " 0.4166666666666667,\n",
       " 0.3333333333333333,\n",
       " 0.3333333333333333,\n",
       " 0.2,\n",
       " 0.45454545454545453,\n",
       " 0.25,\n",
       " 0.4166666666666667,\n",
       " 0.5,\n",
       " 0.2857142857142857,\n",
       " 0.42857142857142855,\n",
       " 0.2857142857142857,\n",
       " 0.47619047619047616,\n",
       " 0.375,\n",
       " 0.6967741935483871,\n",
       " 0.5606060606060606,\n",
       " 0.6666666666666666,\n",
       " 0.3333333333333333,\n",
       " 0.589041095890411,\n",
       " 0.4,\n",
       " 0.575,\n",
       " 0.42857142857142855,\n",
       " 0.5,\n",
       " 0.5,\n",
       " 0.4878048780487805,\n",
       " 0.2857142857142857,\n",
       " 0.4666666666666667,\n",
       " 0.42857142857142855,\n",
       " 0.38461538461538464,\n",
       " 0.543859649122807,\n",
       " 0.5106382978723404,\n",
       " 0.6138613861386139,\n",
       " 0.4444444444444444,\n",
       " 0.5217391304347826,\n",
       " 0.5321888412017167,\n",
       " 0.5581395348837209,\n",
       " 0.5454545454545454,\n",
       " 0.2857142857142857,\n",
       " 0.5384615384615384,\n",
       " 1.0,\n",
       " 0.875,\n",
       " 0.9333333333333333,\n",
       " 0.75,\n",
       " 0.5384615384615384,\n",
       " 0.07142857142857142,\n",
       " 0.4444444444444444,\n",
       " 0.375,\n",
       " 0.875,\n",
       " 0.8,\n",
       " 0.6,\n",
       " 0.8807339449541285,\n",
       " 0.36,\n",
       " 0,\n",
       " 0.9615384615384616,\n",
       " 0,\n",
       " 0.8823529411764706,\n",
       " 0.7333333333333333,\n",
       " 0.9230769230769231,\n",
       " 0.8571428571428571,\n",
       " 0,\n",
       " 0.8333333333333334,\n",
       " 0.8571428571428571,\n",
       " 1.0,\n",
       " 0.375,\n",
       " 0.0,\n",
       " 0.42857142857142855,\n",
       " 0.5714285714285714,\n",
       " 0.0,\n",
       " 0.5,\n",
       " 0.3333333333333333,\n",
       " 0.5,\n",
       " 0.75,\n",
       " 0.25,\n",
       " 0.4,\n",
       " 0.16666666666666666,\n",
       " 0,\n",
       " 1.0,\n",
       " 1.0,\n",
       " 0.0,\n",
       " 0.3333333333333333,\n",
       " 0.696969696969697,\n",
       " 0.0,\n",
       " 0.0,\n",
       " 0.3333333333333333,\n",
       " 1.0,\n",
       " 0.0,\n",
       " 0,\n",
       " 0.40816326530612246,\n",
       " 0,\n",
       " 0.5,\n",
       " 0.6666666666666666,\n",
       " 0.0,\n",
       " 0.9565217391304348,\n",
       " 0.5,\n",
       " 0.647887323943662,\n",
       " 0.0,\n",
       " 0.0,\n",
       " 0.75,\n",
       " 0,\n",
       " 0.5,\n",
       " 0.6363636363636364,\n",
       " 0.5,\n",
       " 0.3333333333333333,\n",
       " 0.5,\n",
       " 0.1111111111111111,\n",
       " 1.0,\n",
       " 1.0,\n",
       " 0.3333333333333333,\n",
       " 1.0,\n",
       " 0.8166666666666667,\n",
       " 0.0,\n",
       " 0.0,\n",
       " 0.5,\n",
       " 0.0,\n",
       " 0.8,\n",
       " 0.38461538461538464,\n",
       " 0.1,\n",
       " 0.8056872037914692,\n",
       " 0.0,\n",
       " 0.75,\n",
       " 0.7211538461538461,\n",
       " 0.6,\n",
       " 1.0,\n",
       " 0.45454545454545453,\n",
       " 0.0,\n",
       " 0.5,\n",
       " 1.0,\n",
       " 0.3793103448275862,\n",
       " 0.9375,\n",
       " 0,\n",
       " 0.3333333333333333,\n",
       " 0.3157894736842105,\n",
       " 0.42857142857142855,\n",
       " 0.4166666666666667,\n",
       " 0.5151515151515151,\n",
       " 0,\n",
       " 1.0,\n",
       " 1.0,\n",
       " 0.75,\n",
       " 0.41025641025641024,\n",
       " 0.5833333333333334,\n",
       " 0.0,\n",
       " 0.0,\n",
       " 1.0,\n",
       " 0.5,\n",
       " 0.49019607843137253,\n",
       " 0.6,\n",
       " 1.0,\n",
       " 0.5,\n",
       " 1.0,\n",
       " 0.525,\n",
       " 0.5,\n",
       " 0.6190476190476191,\n",
       " 0.5,\n",
       " 1.0,\n",
       " 0.5769230769230769,\n",
       " 0.6875,\n",
       " 0,\n",
       " 0.3333333333333333,\n",
       " 0.8205128205128205,\n",
       " 0.0,\n",
       " 0.41935483870967744,\n",
       " 0.7317073170731707,\n",
       " 0.3333333333333333,\n",
       " 0.0,\n",
       " 0.463768115942029,\n",
       " 0.8333333333333334,\n",
       " 0.25,\n",
       " 0.8571428571428571,\n",
       " 0.8,\n",
       " 0,\n",
       " 0.06666666666666667,\n",
       " 1.0,\n",
       " 0.3333333333333333,\n",
       " 0.25,\n",
       " 0.0,\n",
       " 0.25,\n",
       " 0.5,\n",
       " 0.0,\n",
       " 0.6,\n",
       " 0.3333333333333333,\n",
       " 0.0,\n",
       " 0.0,\n",
       " 0.5,\n",
       " 0.0,\n",
       " 0.16666666666666666,\n",
       " 0.3333333333333333,\n",
       " 0.06451612903225806,\n",
       " 0.625,\n",
       " 0.5,\n",
       " 0.25,\n",
       " 0.2,\n",
       " 1.0,\n",
       " 0.4444444444444444,\n",
       " 0.5,\n",
       " 0.0,\n",
       " 0.5,\n",
       " 1.0,\n",
       " 0.2857142857142857,\n",
       " 0.5,\n",
       " 0.3333333333333333,\n",
       " 0.5,\n",
       " 1.0,\n",
       " 0.875,\n",
       " 0,\n",
       " 0.410958904109589,\n",
       " 1.0,\n",
       " 0.20224719101123595,\n",
       " 0.14285714285714285,\n",
       " 0.8888888888888888,\n",
       " 0.25,\n",
       " 0.0,\n",
       " 0.7692307692307693,\n",
       " 0,\n",
       " 0.4111111111111111,\n",
       " 0.4,\n",
       " 1.0,\n",
       " 0.3333333333333333,\n",
       " 0.47058823529411764,\n",
       " 0.0,\n",
       " 0.5,\n",
       " 0,\n",
       " 0,\n",
       " 0.13333333333333333,\n",
       " 0.5,\n",
       " 0.4444444444444444,\n",
       " 0.5,\n",
       " 0.5,\n",
       " 0.0,\n",
       " 0,\n",
       " 0.43478260869565216,\n",
       " 0.25,\n",
       " 0.8571428571428571,\n",
       " 0.8,\n",
       " 0.0,\n",
       " 0.3333333333333333,\n",
       " 1.0,\n",
       " 0.5294117647058824,\n",
       " 0.6363636363636364,\n",
       " 0.2,\n",
       " 1.0,\n",
       " 1.0,\n",
       " 0.5,\n",
       " 1.0,\n",
       " 1.0,\n",
       " 0.75,\n",
       " 0.0,\n",
       " 0.6470588235294118,\n",
       " 1.0,\n",
       " 0.5555555555555556,\n",
       " 0.8888888888888888,\n",
       " 0.2857142857142857,\n",
       " 1.0,\n",
       " 1.0,\n",
       " 0.1111111111111111,\n",
       " 0.9090909090909091,\n",
       " 0.375,\n",
       " 0.5,\n",
       " 0.3333333333333333,\n",
       " 0.625,\n",
       " 0.6521739130434783,\n",
       " 0.5714285714285714,\n",
       " 0.6056338028169014,\n",
       " 0.0,\n",
       " 0.5217391304347826,\n",
       " 0.7727272727272727,\n",
       " 0.46153846153846156,\n",
       " 0.5,\n",
       " 0,\n",
       " 0.3333333333333333,\n",
       " 0.0,\n",
       " 0.4074074074074074,\n",
       " 0.6111111111111112,\n",
       " 0.5,\n",
       " 1.0,\n",
       " 0.5,\n",
       " 0.1,\n",
       " 1.0,\n",
       " 0.6666666666666666,\n",
       " 0.0,\n",
       " 0.6,\n",
       " 0.5,\n",
       " 0.5882352941176471,\n",
       " 0.43478260869565216,\n",
       " 0,\n",
       " 0.6,\n",
       " 1.0,\n",
       " 0.5,\n",
       " 1.0,\n",
       " 0.5555555555555556,\n",
       " 1.0,\n",
       " 0.0,\n",
       " 0.3333333333333333,\n",
       " 0.6,\n",
       " 0.625,\n",
       " 1.0,\n",
       " 0,\n",
       " 0.8181818181818182,\n",
       " 0.5161290322580645,\n",
       " 0.0,\n",
       " 0.09090909090909091,\n",
       " 0,\n",
       " 0.0,\n",
       " 1.0,\n",
       " 0.4230769230769231,\n",
       " 0.3333333333333333,\n",
       " 0.25,\n",
       " 0.6666666666666666,\n",
       " 0.16666666666666666,\n",
       " 0.5,\n",
       " 0,\n",
       " 0.5555555555555556,\n",
       " 0.2857142857142857,\n",
       " 0.0,\n",
       " 0.4,\n",
       " 0.8333333333333334,\n",
       " 0,\n",
       " 0.5,\n",
       " 0,\n",
       " 0.0,\n",
       " 0.3,\n",
       " 0.6060606060606061,\n",
       " 0.3333333333333333,\n",
       " 0.4090909090909091,\n",
       " 0.47368421052631576,\n",
       " 0.09090909090909091,\n",
       " 1.0,\n",
       " 0.5555555555555556,\n",
       " 0.08333333333333333,\n",
       " 0.5833333333333334,\n",
       " 0.18181818181818182,\n",
       " 0.42857142857142855,\n",
       " 0.2,\n",
       " 0,\n",
       " 0.3333333333333333,\n",
       " 0.4032258064516129,\n",
       " 0.46153846153846156,\n",
       " 0,\n",
       " 0.0,\n",
       " 0.5833333333333334,\n",
       " 0.0,\n",
       " 0.4,\n",
       " 0.6,\n",
       " 0.6428571428571429,\n",
       " 0.6,\n",
       " 0.0,\n",
       " 0.4,\n",
       " 0.6,\n",
       " 0,\n",
       " 0.2608695652173913,\n",
       " 0.35714285714285715,\n",
       " 0.6666666666666666,\n",
       " 0.46153846153846156,\n",
       " 0,\n",
       " 0.3263157894736842,\n",
       " 0.5,\n",
       " 0,\n",
       " 0.6666666666666666,\n",
       " 0.75,\n",
       " 0,\n",
       " 0.6,\n",
       " 0.6666666666666666,\n",
       " 0.2,\n",
       " 0.0,\n",
       " 0.0,\n",
       " 0.0,\n",
       " 0,\n",
       " 0.6878980891719745,\n",
       " 0,\n",
       " 1.0,\n",
       " 0.5405405405405406,\n",
       " 0.2857142857142857,\n",
       " 0.75,\n",
       " 1.0,\n",
       " 0.26666666666666666,\n",
       " 0.8421052631578947,\n",
       " 0.75,\n",
       " 0.6666666666666666,\n",
       " 0.0,\n",
       " 0.5,\n",
       " 1.0,\n",
       " 0.46153846153846156,\n",
       " 0.5,\n",
       " 0.873015873015873,\n",
       " 1.0,\n",
       " 0,\n",
       " 0.36,\n",
       " 0.5,\n",
       " 0.4444444444444444,\n",
       " 0.6666666666666666,\n",
       " 0.0,\n",
       " 0,\n",
       " 0.7142857142857143,\n",
       " 0.4,\n",
       " 0.0,\n",
       " 0,\n",
       " 0,\n",
       " 0,\n",
       " 1.0,\n",
       " 0.8,\n",
       " 0.4444444444444444,\n",
       " 0.6666666666666666,\n",
       " 0.47058823529411764,\n",
       " 1.0,\n",
       " 0.23809523809523808,\n",
       " 0.8333333333333334,\n",
       " 0.5072463768115942,\n",
       " 1.0,\n",
       " 0.25,\n",
       " 0.0,\n",
       " 0.0,\n",
       " 0.43243243243243246,\n",
       " 0.5625,\n",
       " 0.5,\n",
       " 0.5,\n",
       " 0.7142857142857143,\n",
       " 0.07142857142857142,\n",
       " 0.0,\n",
       " 0.5103626943005182,\n",
       " 0.5,\n",
       " 0.46153846153846156,\n",
       " 1.0,\n",
       " 0.0,\n",
       " 0,\n",
       " 1.0,\n",
       " 0,\n",
       " 0.6666666666666666,\n",
       " 0.0,\n",
       " 0.5882352941176471,\n",
       " 0,\n",
       " 0.20909090909090908,\n",
       " 0.0,\n",
       " 0.5,\n",
       " 1.0,\n",
       " 0.5,\n",
       " 0.2857142857142857,\n",
       " 0.75,\n",
       " 1.0,\n",
       " 1.0,\n",
       " 1.0,\n",
       " 0.43478260869565216,\n",
       " 1.0,\n",
       " 0.7954545454545454,\n",
       " 0.2857142857142857,\n",
       " 0.0,\n",
       " 0.0,\n",
       " 1.0,\n",
       " 0.5,\n",
       " 1.0,\n",
       " 0,\n",
       " 0,\n",
       " 0,\n",
       " 0.25,\n",
       " 0.5555555555555556,\n",
       " 0.7058823529411765,\n",
       " 0,\n",
       " 0.5555555555555556,\n",
       " 0.5,\n",
       " 0.0,\n",
       " 0,\n",
       " 0.0,\n",
       " 0.5,\n",
       " 0.5,\n",
       " 0.0,\n",
       " 0.3333333333333333,\n",
       " 0.07692307692307693,\n",
       " 0.5,\n",
       " 0.5,\n",
       " 0,\n",
       " 1.0,\n",
       " 0.0,\n",
       " 1.0,\n",
       " 0,\n",
       " 0.2857142857142857,\n",
       " 0.5,\n",
       " 0.25,\n",
       " 0.8333333333333334,\n",
       " 0.0,\n",
       " 0.46511627906976744,\n",
       " 0,\n",
       " 0.0,\n",
       " 0.42857142857142855,\n",
       " 1.0,\n",
       " 1.0,\n",
       " 0.5,\n",
       " 0.6086956521739131,\n",
       " 1.0,\n",
       " 1.0,\n",
       " 1.0,\n",
       " 0.8,\n",
       " 1.0,\n",
       " 0.3333333333333333,\n",
       " 0.0,\n",
       " 1.0,\n",
       " 0.5,\n",
       " 0,\n",
       " 0.0,\n",
       " 1.0,\n",
       " 0,\n",
       " 0.7,\n",
       " 0.5,\n",
       " 0.16666666666666666,\n",
       " 1.0,\n",
       " 0.0,\n",
       " 1.0,\n",
       " 0,\n",
       " 0,\n",
       " 0.5,\n",
       " 0.8064516129032258,\n",
       " 0.46153846153846156,\n",
       " 0.0,\n",
       " 1.0,\n",
       " 1.0,\n",
       " 0.5,\n",
       " 0.25,\n",
       " 0.18181818181818182,\n",
       " 0.7727272727272727,\n",
       " 0.0,\n",
       " 0.4,\n",
       " 1.0,\n",
       " 0.8888888888888888,\n",
       " 0.0,\n",
       " 0.9285714285714286,\n",
       " 0.6666666666666666,\n",
       " 0.25,\n",
       " 0.0,\n",
       " 0.3333333333333333,\n",
       " 0.25,\n",
       " 0.2222222222222222,\n",
       " 0.0,\n",
       " 0.75,\n",
       " 0.8461538461538461,\n",
       " 1.0,\n",
       " 1.0,\n",
       " 0.7916666666666666,\n",
       " 0.44,\n",
       " 0.0,\n",
       " 0.42857142857142855,\n",
       " 0,\n",
       " 1.0,\n",
       " 0.3333333333333333,\n",
       " 0,\n",
       " 0.2222222222222222,\n",
       " 0.25925925925925924,\n",
       " 0.0,\n",
       " 1.0,\n",
       " 0.4,\n",
       " 0.5357142857142857,\n",
       " 0.2222222222222222,\n",
       " 0.0,\n",
       " 0.0,\n",
       " 0.5588235294117647,\n",
       " 0.0,\n",
       " 0.0,\n",
       " 0.6666666666666666,\n",
       " 0.4878048780487805,\n",
       " 0,\n",
       " 0.7391304347826086,\n",
       " 0.8333333333333334,\n",
       " 0.2222222222222222,\n",
       " 1.0,\n",
       " 0.0,\n",
       " 0,\n",
       " 0.0,\n",
       " 0.125,\n",
       " 0.1111111111111111,\n",
       " 0,\n",
       " 0.35,\n",
       " 0.125,\n",
       " 0,\n",
       " 0.5555555555555556,\n",
       " 1.0,\n",
       " 0.5,\n",
       " 0.3333333333333333,\n",
       " 1.0,\n",
       " 1.0,\n",
       " 0,\n",
       " 0.0,\n",
       " 0.48936170212765956,\n",
       " 0.5,\n",
       " 0.5,\n",
       " 0.5,\n",
       " 0.3333333333333333,\n",
       " 0.5408163265306123,\n",
       " 0.2857142857142857,\n",
       " 0.3333333333333333,\n",
       " 0.25,\n",
       " 0.5384615384615384,\n",
       " 0.75,\n",
       " 0,\n",
       " 0.75,\n",
       " 1.0,\n",
       " 0.0,\n",
       " 0.5833333333333334,\n",
       " 0.75,\n",
       " 0.2857142857142857,\n",
       " 0.23076923076923078,\n",
       " 0.0,\n",
       " 0.5263157894736842,\n",
       " 0.0,\n",
       " 0.4117647058823529,\n",
       " 1.0,\n",
       " 1.0,\n",
       " 1.0,\n",
       " 0,\n",
       " 0.5,\n",
       " 0.5,\n",
       " 0.0,\n",
       " 0.08,\n",
       " 0.5,\n",
       " 0.6764705882352942,\n",
       " 0,\n",
       " 0.25,\n",
       " 0,\n",
       " 0,\n",
       " 0.5,\n",
       " 0,\n",
       " 0.7058823529411765,\n",
       " 0.4444444444444444,\n",
       " 0,\n",
       " 0.0,\n",
       " 0,\n",
       " 0.5526315789473685,\n",
       " 0,\n",
       " 0.5212765957446809,\n",
       " 0,\n",
       " 0,\n",
       " 0.6097560975609756,\n",
       " 1.0,\n",
       " 1.0,\n",
       " 0.8,\n",
       " 0,\n",
       " 0.5,\n",
       " 0,\n",
       " 0,\n",
       " 0,\n",
       " 0.5833333333333334,\n",
       " 0.3333333333333333,\n",
       " 0.5,\n",
       " 1.0,\n",
       " 0.4,\n",
       " 0.5454545454545454,\n",
       " 0.2608695652173913,\n",
       " 0.5,\n",
       " 0.0,\n",
       " 0.25,\n",
       " 0.6052631578947368,\n",
       " 0.5714285714285714,\n",
       " 0.4375,\n",
       " 0.5555555555555556,\n",
       " 0.0,\n",
       " 0.5,\n",
       " 0.4,\n",
       " 0.45454545454545453,\n",
       " 0.0,\n",
       " 0.25,\n",
       " 0.75,\n",
       " 1.0,\n",
       " 0.5,\n",
       " 1.0,\n",
       " 0,\n",
       " 0.5789473684210527,\n",
       " 0,\n",
       " 0.6666666666666666,\n",
       " 0.4,\n",
       " 0.75,\n",
       " 0.25,\n",
       " 0.42857142857142855,\n",
       " 0.25,\n",
       " 0.47619047619047616,\n",
       " 0.5555555555555556,\n",
       " 0.4444444444444444,\n",
       " 0.4,\n",
       " 0,\n",
       " 0.3333333333333333,\n",
       " 0.7727272727272727,\n",
       " 0,\n",
       " 0.6575342465753424,\n",
       " 0.3333333333333333,\n",
       " 0,\n",
       " 0.0,\n",
       " 0.6666666666666666,\n",
       " 0.06666666666666667,\n",
       " 0.5,\n",
       " 0.0,\n",
       " 0.5031847133757962,\n",
       " 0.25,\n",
       " 0.8571428571428571,\n",
       " 0.68,\n",
       " 1.0,\n",
       " 0,\n",
       " 0.42857142857142855,\n",
       " 0.5,\n",
       " 0,\n",
       " 0.5178571428571429,\n",
       " 0.0,\n",
       " 0,\n",
       " 0.6666666666666666,\n",
       " 0.5,\n",
       " 0.0,\n",
       " 0.3333333333333333,\n",
       " 1.0,\n",
       " 0.7325581395348837,\n",
       " 0.0,\n",
       " 0.29411764705882354,\n",
       " 1.0,\n",
       " 0.25,\n",
       " 0.6666666666666666,\n",
       " 1.0,\n",
       " 0.2857142857142857,\n",
       " 0.0,\n",
       " 0.3333333333333333,\n",
       " 1.0,\n",
       " 1.0,\n",
       " 0.0,\n",
       " 0.5,\n",
       " 0.3333333333333333,\n",
       " 0.75,\n",
       " 0.25,\n",
       " 0.3333333333333333,\n",
       " 0.2,\n",
       " 0.25,\n",
       " 0.4,\n",
       " 0.5833333333333334,\n",
       " 0.7567567567567568,\n",
       " 0.5,\n",
       " 0.2857142857142857,\n",
       " 0.0,\n",
       " 0.26666666666666666,\n",
       " 0,\n",
       " 0.038461538461538464,\n",
       " 0.0,\n",
       " 0.5,\n",
       " 0.6666666666666666,\n",
       " 0.0,\n",
       " 0.36363636363636365,\n",
       " 0.5481012658227848,\n",
       " 0.625,\n",
       " 0,\n",
       " 0.0,\n",
       " 0.4207650273224044,\n",
       " 0.5,\n",
       " 0.4,\n",
       " 0.625,\n",
       " 1.0,\n",
       " 0.21212121212121213,\n",
       " 0,\n",
       " 0.0,\n",
       " 0.4772727272727273,\n",
       " 0.14285714285714285,\n",
       " 0.3333333333333333,\n",
       " 0.375,\n",
       " 0,\n",
       " 0.8,\n",
       " 0,\n",
       " 0.43548387096774194,\n",
       " 0.6666666666666666,\n",
       " 0,\n",
       " 0,\n",
       " 1.0,\n",
       " 0.4,\n",
       " 0,\n",
       " 0.2222222222222222,\n",
       " 0,\n",
       " 0.16666666666666666,\n",
       " 0.5,\n",
       " 0,\n",
       " 0.4666666666666667,\n",
       " 0.0,\n",
       " 0.0,\n",
       " 0.5454545454545454,\n",
       " 1.0,\n",
       " 0.4583333333333333,\n",
       " 0.8181818181818182,\n",
       " 0.5,\n",
       " 0.8571428571428571,\n",
       " 0.5517241379310345,\n",
       " 0.0,\n",
       " 0.5,\n",
       " 0,\n",
       " 0.8888888888888888,\n",
       " 1.0,\n",
       " 0.3333333333333333,\n",
       " 0.0,\n",
       " 0.8333333333333334,\n",
       " 0.38461538461538464,\n",
       " 0.75,\n",
       " 0.36363636363636365,\n",
       " 0.5833333333333334,\n",
       " 0.4,\n",
       " 0.3333333333333333,\n",
       " 1.0,\n",
       " 0.2,\n",
       " 0.6,\n",
       " 0.6153846153846154,\n",
       " 0.5,\n",
       " 0.4,\n",
       " 1.0,\n",
       " 0.6056338028169014,\n",
       " 0,\n",
       " 0.0,\n",
       " 0.0,\n",
       " 0.5,\n",
       " 0.5384615384615384,\n",
       " 0.25,\n",
       " 0.0,\n",
       " 0.0,\n",
       " 1.0,\n",
       " 0.0625,\n",
       " 0.5,\n",
       " 0.3333333333333333,\n",
       " 0.3333333333333333,\n",
       " 0.49693251533742333,\n",
       " 0.4,\n",
       " 0.56,\n",
       " 0.0,\n",
       " 0.5714285714285714,\n",
       " 0,\n",
       " 1.0,\n",
       " 0,\n",
       " 0.0,\n",
       " 0.8333333333333334,\n",
       " 0.3333333333333333,\n",
       " 0.058823529411764705,\n",
       " 0,\n",
       " 1.0,\n",
       " 0.0,\n",
       " 0.5,\n",
       " 0.4,\n",
       " 0,\n",
       " 0.0,\n",
       " 0.3333333333333333,\n",
       " 0.9,\n",
       " 0.3333333333333333,\n",
       " 0.4,\n",
       " 0.0,\n",
       " 0.6666666666666666,\n",
       " 0.8,\n",
       " 1.0,\n",
       " 1.0,\n",
       " 0.4,\n",
       " 0.6666666666666666,\n",
       " 0.38095238095238093,\n",
       " 0,\n",
       " 0,\n",
       " 0.5,\n",
       " 0.0,\n",
       " 0.7,\n",
       " 0,\n",
       " 0.42857142857142855,\n",
       " 0.0,\n",
       " 0,\n",
       " 0.0,\n",
       " 0.0,\n",
       " 0.6666666666666666,\n",
       " 0.0,\n",
       " 0.8985507246376812,\n",
       " 0,\n",
       " 0.4,\n",
       " 0.5,\n",
       " 0,\n",
       " 0.5,\n",
       " 1.0,\n",
       " 0.6,\n",
       " ...]"
      ]
     },
     "execution_count": 192,
     "metadata": {},
     "output_type": "execute_result"
    }
   ],
   "source": [
    "new_util        "
   ]
  },
  {
   "cell_type": "code",
   "execution_count": 18,
   "id": "5da3775d",
   "metadata": {},
   "outputs": [
    {
     "name": "stderr",
     "output_type": "stream",
     "text": [
      "                                                                                \r"
     ]
    }
   ],
   "source": [
    "df6 = df5.toPandas()"
   ]
  },
  {
   "cell_type": "code",
   "execution_count": 19,
   "id": "4d6705a9",
   "metadata": {},
   "outputs": [],
   "source": [
    "df6[\"utilidade\"] = new_util"
   ]
  },
  {
   "cell_type": "code",
   "execution_count": 20,
   "id": "41c22cc7",
   "metadata": {},
   "outputs": [],
   "source": [
    "df7 = spark.createDataFrame(df6)"
   ]
  },
  {
   "cell_type": "code",
   "execution_count": 21,
   "id": "82f4c8eb",
   "metadata": {},
   "outputs": [],
   "source": [
    "df7 = df7.withColumn('lancamento', regexp_extract(col('movie'),  r\"\\(([^()]+)\\)$\", 1))"
   ]
  },
  {
   "cell_type": "code",
   "execution_count": 215,
   "id": "a374a6cb",
   "metadata": {},
   "outputs": [
    {
     "name": "stderr",
     "output_type": "stream",
     "text": [
      "2022-02-20 11:01:46,075 WARN scheduler.TaskSetManager: Stage 100 contains a task of very large size (49754 KB). The maximum recommended task size is 100 KB.\n"
     ]
    },
    {
     "name": "stdout",
     "output_type": "stream",
     "text": [
      "+--------+------+-----------------+--------------------+----+---------+-------------------+----------+\n",
      "| helpful|rating|      review_date|               movie| ano|n_digitos|          utilidade|lancamento|\n",
      "+--------+------+-----------------+--------------------+----+---------+-------------------+----------+\n",
      "|  [1, 3]|    10| 13 December 2001|Dead Man on Campu...|2001|        4| 0.3333333333333333|      1998|\n",
      "|  [1, 3]|     8|    11 March 1999|Dead Man on Campu...|1999|        4| 0.3333333333333333|      1998|\n",
      "|  [1, 3]|    10|     26 July 2002|Dead Man on Campu...|2002|        4| 0.3333333333333333|      1998|\n",
      "|  [1, 3]|     9|  20 January 2003|Dead Man on Campu...|2003|        4| 0.3333333333333333|      1998|\n",
      "|  [1, 3]|     9|  8 February 2003|Dead Man on Campu...|2003|        4| 0.3333333333333333|      1998|\n",
      "|  [4, 8]|     5|     1 April 2003|Dead Man on Campu...|2003|        4|                0.5|      1998|\n",
      "|  [5, 7]|     4|11 September 2003|Dead Man on Campu...|2003|        4| 0.7142857142857143|      1998|\n",
      "|  [2, 5]|     5|  9 December 2003|Dead Man on Campu...|2003|        4|                0.4|      1998|\n",
      "|[27, 36]|    10|      30 May 2004|Dead Man on Campu...|2004|        4|               0.75|      1998|\n",
      "|  [1, 2]|    10|      5 June 2003| Hammarkullen (1997)|2003|        4|                0.5|      1997|\n",
      "|  [3, 3]|    10| 12 December 2003| Hammarkullen (1997)|2003|        4|                1.0|      1997|\n",
      "|  [5, 9]|    10|     25 July 2001|      Ivanhoe (1997)|2001|        4| 0.5555555555555556|      1997|\n",
      "|  [5, 8]|    10|  10 January 2001|      Ivanhoe (1997)|2001|        4|              0.625|      1997|\n",
      "| [9, 13]|    10|    5 August 2001|      Ivanhoe (1997)|2001|        4| 0.6923076923076923|      1997|\n",
      "|[18, 20]|     8|   6 January 2003|      Ivanhoe (1997)|2003|        4|                0.9|      1997|\n",
      "|[29, 43]|    10|  4 February 2004|      Ivanhoe (1997)|2004|        4| 0.6744186046511628|      1997|\n",
      "|  [2, 2]|    10|    29 April 2001|Knots Landing: Ba...|2001|        4|                1.0|      1997|\n",
      "|  [1, 7]|     5| 13 February 2000| The Last Don (1997)|2000|        4|0.14285714285714285|      1997|\n",
      "|[11, 14]|     6|    14 March 2000| The Last Don (1997)|2000|        4| 0.7857142857142857|      1997|\n",
      "|  [0, 1]|    10| 23 November 2000| The Last Don (1997)|2000|        4|                0.0|      1997|\n",
      "+--------+------+-----------------+--------------------+----+---------+-------------------+----------+\n",
      "only showing top 20 rows\n",
      "\n"
     ]
    },
    {
     "name": "stderr",
     "output_type": "stream",
     "text": [
      "                                                                                \r"
     ]
    }
   ],
   "source": [
    "#pegar filmes mais populares que foram lançados antes de 2015\n",
    "#analisar uma top-review de 2015\n",
    "#ver tendencias de notas nos 5 anos seguintes até 2020\n",
    "\n",
    "filmespopulares = df7.filter(df7.lancamento < 2015)\n",
    "filmespopulares.show()"
   ]
  },
  {
   "cell_type": "code",
   "execution_count": 216,
   "id": "44b4c123",
   "metadata": {},
   "outputs": [
    {
     "name": "stderr",
     "output_type": "stream",
     "text": [
      "2022-02-20 11:02:04,607 WARN scheduler.TaskSetManager: Stage 101 contains a task of very large size (49754 KB). The maximum recommended task size is 100 KB.\n",
      "[Stage 101:===================================>                     (5 + 3) / 8]"
     ]
    },
    {
     "name": "stdout",
     "output_type": "stream",
     "text": [
      "+--------------------+-----+\n",
      "|               movie|count|\n",
      "+--------------------+-----+\n",
      "| The Last Don (1997)|   17|\n",
      "|And Now Tomorrow ...|   13|\n",
      "|       Thirst (2009)|   35|\n",
      "|   Annie Hall (1977)|  238|\n",
      "|       Agency (1980)|   11|\n",
      "|22 Jump Street (2...|  195|\n",
      "|Before Night Fall...|   19|\n",
      "|        Birth (2004)|  175|\n",
      "|Abre los ojos (1997)|   14|\n",
      "|       Psycho (1960)|  883|\n",
      "|The Parallax View...|   61|\n",
      "|     Bastards (2013)|   13|\n",
      "|I Love You Philli...|  144|\n",
      "|Beauty and the Bo...|   17|\n",
      "|Good Vibrations (...|   19|\n",
      "|     勇者無懼 (1997)|    3|\n",
      "|Night of the Livi...|  232|\n",
      "|El niño de barro ...|    2|\n",
      "|Heavenly Creature...|  168|\n",
      "|Videogramme einer...|    2|\n",
      "+--------------------+-----+\n",
      "only showing top 20 rows\n",
      "\n"
     ]
    },
    {
     "name": "stderr",
     "output_type": "stream",
     "text": [
      "                                                                                \r"
     ]
    }
   ],
   "source": [
    "filmespopulares = filmespopulares.groupBy(\"movie\").count()\n",
    "filmespopulares.show()"
   ]
  },
  {
   "cell_type": "code",
   "execution_count": 217,
   "id": "1b3f84ca",
   "metadata": {},
   "outputs": [
    {
     "name": "stderr",
     "output_type": "stream",
     "text": [
      "2022-02-20 11:02:17,982 WARN scheduler.TaskSetManager: Stage 103 contains a task of very large size (49754 KB). The maximum recommended task size is 100 KB.\n",
      "[Stage 103:=================================================>       (7 + 1) / 8]"
     ]
    },
    {
     "name": "stdout",
     "output_type": "stream",
     "text": [
      "+--------------------+-----+\n",
      "|               movie|count|\n",
      "+--------------------+-----+\n",
      "|The Shawshank Red...| 6715|\n",
      "|The Dark Knight (...| 6041|\n",
      "|The Lord of the R...| 4377|\n",
      "|    Inception (2010)| 3593|\n",
      "|   The Matrix (1999)| 3196|\n",
      "|The Lord of the R...| 2967|\n",
      "|   Fight Club (1999)| 2773|\n",
      "|Star Wars: Episod...| 2719|\n",
      "|Star Wars: Episod...| 2717|\n",
      "|The Godfather (1972)| 2603|\n",
      "| Man of Steel (2013)| 2538|\n",
      "| Interstellar (2014)| 2308|\n",
      "|Star Wars: Episod...| 2203|\n",
      "| Pulp Fiction (1994)| 2173|\n",
      "|Indiana Jones and...| 1950|\n",
      "|The Lord of the R...| 1933|\n",
      "|      Gravity (2013)| 1914|\n",
      "|Casino Royale (2006)| 1873|\n",
      "| Forrest Gump (1994)| 1862|\n",
      "|The Passion of th...| 1829|\n",
      "+--------------------+-----+\n",
      "only showing top 20 rows\n",
      "\n"
     ]
    },
    {
     "name": "stderr",
     "output_type": "stream",
     "text": [
      "                                                                                \r"
     ]
    }
   ],
   "source": [
    "filmespopulares = filmespopulares.orderBy(col(\"count\").desc())\n",
    "filmespopulares.show()"
   ]
  },
  {
   "cell_type": "code",
   "execution_count": 22,
   "id": "5cef27f9",
   "metadata": {},
   "outputs": [],
   "source": [
    "f1 = df7.filter(df7.movie == 'The Shawshank Redemption (1994)')\n",
    "f2 = df7.filter(df7.movie == 'The Dark Knight (2008)')\n",
    "f3 = df7.filter(df7.movie == 'The Lord of the Rings: The Fellowship of the Ring (2001)')\n",
    "f4 = df7.filter(df7.movie == 'Inception (2010)')\n",
    "f5 = df7.filter(df7.movie == 'The Matrix (1999)')"
   ]
  },
  {
   "cell_type": "code",
   "execution_count": 34,
   "id": "49d1f827",
   "metadata": {},
   "outputs": [
    {
     "name": "stderr",
     "output_type": "stream",
     "text": [
      "2022-02-20 22:28:30,392 WARN scheduler.TaskSetManager: Stage 107 contains a task of very large size (49754 KB). The maximum recommended task size is 100 KB.\n",
      "                                                                                \r"
     ]
    },
    {
     "name": "stdout",
     "output_type": "stream",
     "text": [
      "+----+------+-------------------+\n",
      "| ano|rating|     max(utilidade)|\n",
      "+----+------+-------------------+\n",
      "|2015|     7|                0.0|\n",
      "|2002|     9|                0.0|\n",
      "|2010|     7|               0.75|\n",
      "|2019|     2|                0.2|\n",
      "|1999|     7| 0.6666666666666666|\n",
      "|2002|     1|0.27906976744186046|\n",
      "|2010|     4|0.16666666666666666|\n",
      "|2006|     2|0.26666666666666666|\n",
      "|2002|     6|0.42857142857142855|\n",
      "|2003|     2| 0.2857142857142857|\n",
      "|2020|     8|                1.0|\n",
      "|2019|     3| 0.3333333333333333|\n",
      "|2014|     1|0.23622047244094488|\n",
      "|2006|     6|                0.0|\n",
      "|2010|     1| 0.1885245901639344|\n",
      "|2021|    10|                1.0|\n",
      "|1998|    10|                1.0|\n",
      "|2016|     7| 0.3333333333333333|\n",
      "|2003|     5|0.42424242424242425|\n",
      "|2001|     8| 0.7221385542168675|\n",
      "+----+------+-------------------+\n",
      "only showing top 20 rows\n",
      "\n"
     ]
    }
   ],
   "source": [
    "f1.groupBy(\"ano\", \"rating\").max(\"utilidade\").show()"
   ]
  },
  {
   "cell_type": "code",
   "execution_count": 24,
   "id": "b5d5eadc",
   "metadata": {},
   "outputs": [
    {
     "name": "stderr",
     "output_type": "stream",
     "text": [
      "2022-02-20 22:13:47,991 WARN scheduler.TaskSetManager: Stage 11 contains a task of very large size (49754 KB). The maximum recommended task size is 100 KB.\n",
      "                                                                                \r"
     ]
    },
    {
     "name": "stdout",
     "output_type": "stream",
     "text": [
      "+----+-----------------+\n",
      "| ano|      avg(rating)|\n",
      "+----+-----------------+\n",
      "|2016|9.403448275862068|\n",
      "|2020|9.366528354080222|\n",
      "|2019|9.244916820702404|\n",
      "|2017|9.418439716312056|\n",
      "|2014|9.406976744186046|\n",
      "|2013|9.452513966480447|\n",
      "|2005|9.368421052631579|\n",
      "|2000|9.325301204819278|\n",
      "|2002| 9.06989247311828|\n",
      "|2018|9.389662027833001|\n",
      "|2009|              9.0|\n",
      "|2006|8.848101265822784|\n",
      "|2004|9.072368421052632|\n",
      "|2011| 9.23157894736842|\n",
      "|2008| 9.20388349514563|\n",
      "|1999|9.154639175257731|\n",
      "|2007|9.263157894736842|\n",
      "|2021|          9.46875|\n",
      "|2015|9.366666666666667|\n",
      "|1998|9.568181818181818|\n",
      "+----+-----------------+\n",
      "only showing top 20 rows\n",
      "\n"
     ]
    }
   ],
   "source": [
    "f1.groupBy(\"ano\").mean(\"rating\").show()"
   ]
  },
  {
   "cell_type": "code",
   "execution_count": 37,
   "id": "bfedf15e",
   "metadata": {},
   "outputs": [],
   "source": [
    "import math\n",
    "\n",
    "#coeficiente de correlação pearson\n",
    "def pearson(x, y):\n",
    "    media1 = sum(x)/len(x)\n",
    "    media2 = sum(x)/len(x)\n",
    "    \n",
    "    soma1 = 0\n",
    "    soma2 = 0\n",
    "    soma3 = 0\n",
    "    \n",
    "    for i in range(len(x)):\n",
    "        soma1 = soma1+((x[i]-media1)*(y[i]-media2))\n",
    "        soma2 = soma2+((x[i]-media1)**2)\n",
    "        soma3 = soma3+((x[i]-media1)**2)\n",
    "        \n",
    "    fator1 = soma1\n",
    "    fator2 = soma2*soma3\n",
    "    fator3 = math.sqrt(fator2)\n",
    "    \n",
    "    return (fator1/fator3)"
   ]
  },
  {
   "cell_type": "code",
   "execution_count": 38,
   "id": "ea9eb17a",
   "metadata": {},
   "outputs": [
    {
     "name": "stdout",
     "output_type": "stream",
     "text": [
      "0.6456071805702215\n"
     ]
    }
   ],
   "source": [
    "n11 = [10,7,8,6,5,2,7,1,7,7,3,8]\n",
    "n12 = [9,56,9.15,9.32,9.06,9.06,8.84,9.0,9.40,9.36,9.40,9.24,9.36]\n",
    "print(pearson(n11,n12))"
   ]
  },
  {
   "cell_type": "code",
   "execution_count": 221,
   "id": "e8e6d6c5",
   "metadata": {},
   "outputs": [
    {
     "name": "stderr",
     "output_type": "stream",
     "text": [
      "2022-02-20 11:10:26,472 WARN scheduler.TaskSetManager: Stage 106 contains a task of very large size (49754 KB). The maximum recommended task size is 100 KB.\n",
      "[Stage 106:============================>                            (4 + 4) / 8]"
     ]
    },
    {
     "name": "stdout",
     "output_type": "stream",
     "text": [
      "+----------+------+-----------------+-------------------------------+----+---------+------------------+----------+\n",
      "|helpful   |rating|review_date      |movie                          |ano |n_digitos|utilidade         |lancamento|\n",
      "+----------+------+-----------------+-------------------------------+----+---------+------------------+----------+\n",
      "|[1, 1]    |7     |2 November 1998  |The Shawshank Redemption (1994)|1998|4        |1.0               |1994      |\n",
      "|[1, 1]    |10    |3 October 1998   |The Shawshank Redemption (1994)|1998|4        |1.0               |1994      |\n",
      "|[108, 128]|10    |21 October 1998  |The Shawshank Redemption (1994)|1998|4        |0.84375           |1994      |\n",
      "|[6, 8]    |10    |6 November 1998  |The Shawshank Redemption (1994)|1998|4        |0.75              |1994      |\n",
      "|[5, 7]    |10    |24 December 1998 |The Shawshank Redemption (1994)|1998|4        |0.7142857142857143|1994      |\n",
      "|[50, 72]  |10    |2 August 1998    |The Shawshank Redemption (1994)|1998|4        |0.6944444444444444|1994      |\n",
      "|[17, 25]  |10    |28 December 1998 |The Shawshank Redemption (1994)|1998|4        |0.68              |1994      |\n",
      "|[4, 6]    |10    |25 December 1998 |The Shawshank Redemption (1994)|1998|4        |0.6666666666666666|1994      |\n",
      "|[2, 3]    |10    |30 September 1998|The Shawshank Redemption (1994)|1998|4        |0.6666666666666666|1994      |\n",
      "|[4, 6]    |10    |26 December 1998 |The Shawshank Redemption (1994)|1998|4        |0.6666666666666666|1994      |\n",
      "|[2, 3]    |10    |2 December 1998  |The Shawshank Redemption (1994)|1998|4        |0.6666666666666666|1994      |\n",
      "|[5, 8]    |10    |6 December 1998  |The Shawshank Redemption (1994)|1998|4        |0.625             |1994      |\n",
      "|[11, 18]  |10    |7 August 1998    |The Shawshank Redemption (1994)|1998|4        |0.6111111111111112|1994      |\n",
      "|[3, 5]    |10    |18 November 1998 |The Shawshank Redemption (1994)|1998|4        |0.6               |1994      |\n",
      "|[6, 10]   |10    |7 August 1998    |The Shawshank Redemption (1994)|1998|4        |0.6               |1994      |\n",
      "|[3, 5]    |10    |28 October 1998  |The Shawshank Redemption (1994)|1998|4        |0.6               |1994      |\n",
      "|[3, 5]    |10    |6 December 1998  |The Shawshank Redemption (1994)|1998|4        |0.6               |1994      |\n",
      "|[4, 7]    |10    |6 August 1998    |The Shawshank Redemption (1994)|1998|4        |0.5714285714285714|1994      |\n",
      "|[5, 9]    |9     |22 August 1998   |The Shawshank Redemption (1994)|1998|4        |0.5555555555555556|1994      |\n",
      "|[6, 11]   |10    |14 September 1998|The Shawshank Redemption (1994)|1998|4        |0.5454545454545454|1994      |\n",
      "+----------+------+-----------------+-------------------------------+----+---------+------------------+----------+\n",
      "only showing top 20 rows\n",
      "\n"
     ]
    },
    {
     "name": "stderr",
     "output_type": "stream",
     "text": [
      "                                                                                \r"
     ]
    }
   ],
   "source": [
    "#pega top-review\n",
    "f1.orderBy(col(\"ano\").asc(),col(\"utilidade\").desc()).show(truncate=False)"
   ]
  },
  {
   "cell_type": "code",
   "execution_count": 222,
   "id": "1c171966",
   "metadata": {},
   "outputs": [
    {
     "name": "stderr",
     "output_type": "stream",
     "text": [
      "2022-02-20 11:12:59,161 WARN scheduler.TaskSetManager: Stage 107 contains a task of very large size (49754 KB). The maximum recommended task size is 100 KB.\n",
      "[Stage 107:==============>                                          (2 + 6) / 8]"
     ]
    },
    {
     "name": "stdout",
     "output_type": "stream",
     "text": [
      "+--------------+------+-----------------+----------------------+----+---------+------------------+----------+\n",
      "|helpful       |rating|review_date      |movie                 |ano |n_digitos|utilidade         |lancamento|\n",
      "+--------------+------+-----------------+----------------------+----+---------+------------------+----------+\n",
      "|[873, 1,072]  |10    |20 July 2008     |The Dark Knight (2008)|2008|4        |0.8143656716417911|2008      |\n",
      "|[3,854, 4,899]|10    |9 July 2008      |The Dark Knight (2008)|2008|4        |0.7866911614615227|2008      |\n",
      "|[583, 748]    |10    |20 July 2008     |The Dark Knight (2008)|2008|4        |0.7794117647058824|2008      |\n",
      "|[414, 560]    |9     |24 July 2008     |The Dark Knight (2008)|2008|4        |0.7392857142857143|2008      |\n",
      "|[2,418, 3,467]|10    |7 July 2008      |The Dark Knight (2008)|2008|4        |0.6974329391404672|2008      |\n",
      "|[219, 317]    |10    |16 July 2008     |The Dark Knight (2008)|2008|4        |0.6908517350157729|2008      |\n",
      "|[1,383, 2,003]|10    |16 July 2008     |The Dark Knight (2008)|2008|4        |0.690464303544683 |2008      |\n",
      "|[1,231, 1,804]|10    |16 July 2008     |The Dark Knight (2008)|2008|4        |0.6823725055432373|2008      |\n",
      "|[714, 1,057]  |10    |16 July 2008     |The Dark Knight (2008)|2008|4        |0.6754966887417219|2008      |\n",
      "|[943, 1,410]  |10    |16 July 2008     |The Dark Knight (2008)|2008|4        |0.6687943262411348|2008      |\n",
      "|[2, 3]        |8     |22 September 2008|The Dark Knight (2008)|2008|4        |0.6666666666666666|2008      |\n",
      "|[2,110, 3,212]|10    |7 July 2008      |The Dark Knight (2008)|2008|4        |0.6569115815691158|2008      |\n",
      "|[73, 112]     |10    |19 July 2008     |The Dark Knight (2008)|2008|4        |0.6517857142857143|2008      |\n",
      "|[826, 1,301]  |10    |17 July 2008     |The Dark Knight (2008)|2008|4        |0.6348962336664105|2008      |\n",
      "|[1,023, 1,625]|10    |14 July 2008     |The Dark Knight (2008)|2008|4        |0.6295384615384615|2008      |\n",
      "|[6, 10]       |6     |2 December 2008  |The Dark Knight (2008)|2008|4        |0.6               |2008      |\n",
      "|[3, 5]        |10    |21 July 2008     |The Dark Knight (2008)|2008|4        |0.6               |2008      |\n",
      "|[9, 15]       |8     |20 July 2008     |The Dark Knight (2008)|2008|4        |0.6               |2008      |\n",
      "|[67, 113]     |10    |18 July 2008     |The Dark Knight (2008)|2008|4        |0.5929203539823009|2008      |\n",
      "|[7, 12]       |8     |29 November 2008 |The Dark Knight (2008)|2008|4        |0.5833333333333334|2008      |\n",
      "+--------------+------+-----------------+----------------------+----+---------+------------------+----------+\n",
      "only showing top 20 rows\n",
      "\n"
     ]
    },
    {
     "name": "stderr",
     "output_type": "stream",
     "text": [
      "                                                                                \r"
     ]
    }
   ],
   "source": [
    "f2.orderBy(col(\"ano\").asc(),col(\"utilidade\").desc()).show(truncate=False)"
   ]
  },
  {
   "cell_type": "code",
   "execution_count": 25,
   "id": "1b8a8807",
   "metadata": {},
   "outputs": [
    {
     "name": "stderr",
     "output_type": "stream",
     "text": [
      "2022-02-20 22:17:40,175 WARN scheduler.TaskSetManager: Stage 23 contains a task of very large size (49754 KB). The maximum recommended task size is 100 KB.\n",
      "                                                                                \r"
     ]
    },
    {
     "name": "stdout",
     "output_type": "stream",
     "text": [
      "+----+------+-------------------+\n",
      "| ano|rating|     max(utilidade)|\n",
      "+----+------+-------------------+\n",
      "|2015|     7|                1.0|\n",
      "|2019|     2|0.23529411764705882|\n",
      "|2010|     7| 0.5714285714285714|\n",
      "|2013|     4|               0.25|\n",
      "|2010|     4| 0.5555555555555556|\n",
      "|2020|     8|                1.0|\n",
      "|2014|     1|                0.5|\n",
      "|2019|     3| 0.3333333333333333|\n",
      "|2021|    10|                1.0|\n",
      "|2010|     1|                0.5|\n",
      "|2016|     7|                0.0|\n",
      "|2021|     1|                0.0|\n",
      "|2017|     3| 0.6666666666666666|\n",
      "|2008|     3| 0.5555555555555556|\n",
      "|2014|     8| 0.3333333333333333|\n",
      "|2014|     6| 0.3333333333333333|\n",
      "|2018|     8|                1.0|\n",
      "|2015|     9|               0.75|\n",
      "|2010|     5| 0.4444444444444444|\n",
      "|2008|     6|                0.6|\n",
      "+----+------+-------------------+\n",
      "only showing top 20 rows\n",
      "\n"
     ]
    }
   ],
   "source": [
    "f2.groupBy(\"ano\", \"rating\").max(\"utilidade\").show()"
   ]
  },
  {
   "cell_type": "code",
   "execution_count": 26,
   "id": "32b2942a",
   "metadata": {},
   "outputs": [
    {
     "name": "stderr",
     "output_type": "stream",
     "text": [
      "2022-02-20 22:17:47,394 WARN scheduler.TaskSetManager: Stage 31 contains a task of very large size (49754 KB). The maximum recommended task size is 100 KB.\n",
      "                                                                                \r"
     ]
    },
    {
     "name": "stdout",
     "output_type": "stream",
     "text": [
      "+----+-----------------+\n",
      "| ano|      avg(rating)|\n",
      "+----+-----------------+\n",
      "|2016| 9.04739336492891|\n",
      "|2020|9.161629434954008|\n",
      "|2019| 9.21294964028777|\n",
      "|2017|9.147058823529411|\n",
      "|2014|             9.25|\n",
      "|2013|9.190871369294605|\n",
      "|2009|6.941935483870968|\n",
      "|2018|9.301587301587302|\n",
      "|2011|8.333333333333334|\n",
      "|2008|8.268158617981939|\n",
      "|2021|8.782608695652174|\n",
      "|2015| 9.06159420289855|\n",
      "|2010| 8.30232558139535|\n",
      "+----+-----------------+\n",
      "\n"
     ]
    }
   ],
   "source": [
    "f2.groupBy(\"ano\").mean(\"rating\").show()"
   ]
  },
  {
   "cell_type": "code",
   "execution_count": 39,
   "id": "ff6765c1",
   "metadata": {},
   "outputs": [
    {
     "name": "stdout",
     "output_type": "stream",
     "text": [
      "-0.060596026490066\n"
     ]
    },
    {
     "name": "stderr",
     "output_type": "stream",
     "text": [
      "----------------------------------------\n",
      "Exception happened during processing of request from ('127.0.0.1', 51758)\n",
      "Traceback (most recent call last):\n",
      "  File \"/usr/lib/python3.7/socketserver.py\", line 316, in _handle_request_noblock\n",
      "    self.process_request(request, client_address)\n",
      "  File \"/usr/lib/python3.7/socketserver.py\", line 347, in process_request\n",
      "    self.finish_request(request, client_address)\n",
      "  File \"/usr/lib/python3.7/socketserver.py\", line 360, in finish_request\n",
      "    self.RequestHandlerClass(request, client_address, self)\n",
      "  File \"/usr/lib/python3.7/socketserver.py\", line 720, in __init__\n",
      "    self.handle()\n",
      "  File \"/opt/spark/python/pyspark/accumulators.py\", line 269, in handle\n",
      "    poll(accum_updates)\n",
      "  File \"/opt/spark/python/pyspark/accumulators.py\", line 241, in poll\n",
      "    if func():\n",
      "  File \"/opt/spark/python/pyspark/accumulators.py\", line 245, in accum_updates\n",
      "    num_updates = read_int(self.rfile)\n",
      "  File \"/opt/spark/python/pyspark/serializers.py\", line 724, in read_int\n",
      "    raise EOFError\n",
      "EOFError\n",
      "----------------------------------------\n"
     ]
    }
   ],
   "source": [
    "n21 = [8,7,4,1,7,7,3,8,3,8]\n",
    "n22 = [8.26,8.30,9.19,9.25,9.06,9.04,9.14,9.39,9.21,9.16]\n",
    "print(pearson(n21,n22))"
   ]
  },
  {
   "cell_type": "code",
   "execution_count": 223,
   "id": "1d450a4b",
   "metadata": {},
   "outputs": [
    {
     "name": "stderr",
     "output_type": "stream",
     "text": [
      "2022-02-20 11:14:24,369 WARN scheduler.TaskSetManager: Stage 108 contains a task of very large size (49754 KB). The maximum recommended task size is 100 KB.\n",
      "[Stage 108:==========================================>              (6 + 2) / 8]"
     ]
    },
    {
     "name": "stdout",
     "output_type": "stream",
     "text": [
      "+-------+------+----------------+--------------------------------------------------------+----+---------+---------+----------+\n",
      "|helpful|rating|review_date     |movie                                                   |ano |n_digitos|utilidade|lancamento|\n",
      "+-------+------+----------------+--------------------------------------------------------+----+---------+---------+----------+\n",
      "|[1, 1] |10    |11 December 2001|The Lord of the Rings: The Fellowship of the Ring (2001)|2001|4        |1.0      |2001      |\n",
      "|[1, 1] |10    |9 December 2001 |The Lord of the Rings: The Fellowship of the Ring (2001)|2001|4        |1.0      |2001      |\n",
      "|[1, 1] |10    |18 December 2001|The Lord of the Rings: The Fellowship of the Ring (2001)|2001|4        |1.0      |2001      |\n",
      "|[1, 1] |10    |21 December 2001|The Lord of the Rings: The Fellowship of the Ring (2001)|2001|4        |1.0      |2001      |\n",
      "|[1, 1] |10    |18 December 2001|The Lord of the Rings: The Fellowship of the Ring (2001)|2001|4        |1.0      |2001      |\n",
      "|[1, 1] |10    |11 December 2001|The Lord of the Rings: The Fellowship of the Ring (2001)|2001|4        |1.0      |2001      |\n",
      "|[1, 1] |10    |18 December 2001|The Lord of the Rings: The Fellowship of the Ring (2001)|2001|4        |1.0      |2001      |\n",
      "|[1, 1] |10    |24 December 2001|The Lord of the Rings: The Fellowship of the Ring (2001)|2001|4        |1.0      |2001      |\n",
      "|[1, 1] |5     |22 December 2001|The Lord of the Rings: The Fellowship of the Ring (2001)|2001|4        |1.0      |2001      |\n",
      "|[1, 1] |10    |18 December 2001|The Lord of the Rings: The Fellowship of the Ring (2001)|2001|4        |1.0      |2001      |\n",
      "|[1, 1] |5     |26 December 2001|The Lord of the Rings: The Fellowship of the Ring (2001)|2001|4        |1.0      |2001      |\n",
      "|[1, 1] |5     |22 December 2001|The Lord of the Rings: The Fellowship of the Ring (2001)|2001|4        |1.0      |2001      |\n",
      "|[1, 1] |10    |21 December 2001|The Lord of the Rings: The Fellowship of the Ring (2001)|2001|4        |1.0      |2001      |\n",
      "|[1, 1] |10    |18 December 2001|The Lord of the Rings: The Fellowship of the Ring (2001)|2001|4        |1.0      |2001      |\n",
      "|[1, 1] |10    |21 December 2001|The Lord of the Rings: The Fellowship of the Ring (2001)|2001|4        |1.0      |2001      |\n",
      "|[1, 1] |10    |10 December 2001|The Lord of the Rings: The Fellowship of the Ring (2001)|2001|4        |1.0      |2001      |\n",
      "|[1, 1] |5     |25 December 2001|The Lord of the Rings: The Fellowship of the Ring (2001)|2001|4        |1.0      |2001      |\n",
      "|[1, 1] |10    |18 December 2001|The Lord of the Rings: The Fellowship of the Ring (2001)|2001|4        |1.0      |2001      |\n",
      "|[1, 1] |5     |25 December 2001|The Lord of the Rings: The Fellowship of the Ring (2001)|2001|4        |1.0      |2001      |\n",
      "|[4, 4] |10    |5 December 2001 |The Lord of the Rings: The Fellowship of the Ring (2001)|2001|4        |1.0      |2001      |\n",
      "+-------+------+----------------+--------------------------------------------------------+----+---------+---------+----------+\n",
      "only showing top 20 rows\n",
      "\n"
     ]
    },
    {
     "name": "stderr",
     "output_type": "stream",
     "text": [
      "                                                                                \r"
     ]
    }
   ],
   "source": [
    "f3.orderBy(col(\"ano\").asc(),col(\"utilidade\").desc()).show(truncate=False)"
   ]
  },
  {
   "cell_type": "code",
   "execution_count": 27,
   "id": "7f9b7aa4",
   "metadata": {},
   "outputs": [
    {
     "name": "stderr",
     "output_type": "stream",
     "text": [
      "2022-02-20 22:17:55,215 WARN scheduler.TaskSetManager: Stage 41 contains a task of very large size (49754 KB). The maximum recommended task size is 100 KB.\n",
      "[Stage 41:===========================================>              (6 + 2) / 8]"
     ]
    },
    {
     "name": "stdout",
     "output_type": "stream",
     "text": [
      "+----+------+-------------------+\n",
      "| ano|rating|     max(utilidade)|\n",
      "+----+------+-------------------+\n",
      "|2015|     7|                0.0|\n",
      "|2002|     9|                1.0|\n",
      "|2010|     7|                0.0|\n",
      "|2007|     1|0.05263157894736842|\n",
      "|2002|     1|                0.5|\n",
      "|2006|     2|                0.0|\n",
      "|2002|     6|               0.75|\n",
      "|2003|     2| 0.6666666666666666|\n",
      "|2020|     8|                1.0|\n",
      "|2014|     1|                0.5|\n",
      "|2019|     3|0.11764705882352941|\n",
      "|2006|     6|                0.5|\n",
      "|2021|    10|                0.0|\n",
      "|2010|     1| 0.4117647058823529|\n",
      "|2016|     7|                0.0|\n",
      "|2021|     1|                0.0|\n",
      "|2003|     5|                0.5|\n",
      "|2008|     3| 0.3333333333333333|\n",
      "|2001|     8|                0.0|\n",
      "|2014|     8|                0.0|\n",
      "+----+------+-------------------+\n",
      "only showing top 20 rows\n",
      "\n"
     ]
    },
    {
     "name": "stderr",
     "output_type": "stream",
     "text": [
      "                                                                                \r"
     ]
    }
   ],
   "source": [
    "f3.groupBy(\"ano\", \"rating\").max(\"utilidade\").show()"
   ]
  },
  {
   "cell_type": "code",
   "execution_count": 28,
   "id": "806285c0",
   "metadata": {},
   "outputs": [
    {
     "name": "stderr",
     "output_type": "stream",
     "text": [
      "2022-02-20 22:18:02,672 WARN scheduler.TaskSetManager: Stage 47 contains a task of very large size (49754 KB). The maximum recommended task size is 100 KB.\n",
      "                                                                                \r"
     ]
    },
    {
     "name": "stdout",
     "output_type": "stream",
     "text": [
      "+----+-----------------+\n",
      "| ano|      avg(rating)|\n",
      "+----+-----------------+\n",
      "|2016|9.472222222222221|\n",
      "|2020|8.895454545454545|\n",
      "|2019|8.723577235772357|\n",
      "|2017|8.523809523809524|\n",
      "|2014|8.777777777777779|\n",
      "|2013|9.142857142857142|\n",
      "|2005|8.132075471698114|\n",
      "|2002|  8.2932944606414|\n",
      "|2018|           8.7625|\n",
      "|2009|            9.375|\n",
      "|2006|7.153846153846154|\n",
      "|2004|8.226415094339623|\n",
      "|2011|8.774193548387096|\n",
      "|2008|8.088888888888889|\n",
      "|2007|8.153846153846153|\n",
      "|2021|              7.0|\n",
      "|2015|              8.5|\n",
      "|2001|8.843110504774897|\n",
      "|2010| 8.80952380952381|\n",
      "|2003|7.940520446096654|\n",
      "+----+-----------------+\n",
      "\n"
     ]
    }
   ],
   "source": [
    "f3.groupBy(\"ano\").mean(\"rating\").show()"
   ]
  },
  {
   "cell_type": "code",
   "execution_count": 40,
   "id": "00e5dd8e",
   "metadata": {},
   "outputs": [
    {
     "name": "stdout",
     "output_type": "stream",
     "text": [
      "0.03345614035087705\n"
     ]
    }
   ],
   "source": [
    "n31 = [8,9,2,6,1,3,1,1,7,7,8]\n",
    "n32 = [8.84,8.29,7.94,7.15,8.15,8.08,8.80,8.77,8.5,9.47,8.89]\n",
    "print(pearson(n31,n32))"
   ]
  },
  {
   "cell_type": "code",
   "execution_count": 224,
   "id": "296a9641",
   "metadata": {},
   "outputs": [
    {
     "name": "stderr",
     "output_type": "stream",
     "text": [
      "2022-02-20 11:15:49,304 WARN scheduler.TaskSetManager: Stage 109 contains a task of very large size (49754 KB). The maximum recommended task size is 100 KB.\n",
      "[Stage 109:==========================================>              (6 + 2) / 8]"
     ]
    },
    {
     "name": "stdout",
     "output_type": "stream",
     "text": [
      "+--------------+------+-----------------+----------------+----+---------+------------------+----------+\n",
      "|helpful       |rating|review_date      |movie           |ano |n_digitos|utilidade         |lancamento|\n",
      "+--------------+------+-----------------+----------------+----+---------+------------------+----------+\n",
      "|[4, 4]        |7     |6 October 2010   |Inception (2010)|2010|4        |1.0               |2010      |\n",
      "|[16, 16]      |10    |2 August 2010    |Inception (2010)|2010|4        |1.0               |2010      |\n",
      "|[26, 27]      |9     |1 August 2010    |Inception (2010)|2010|4        |0.9629629629629629|2010      |\n",
      "|[18, 19]      |9     |4 August 2010    |Inception (2010)|2010|4        |0.9473684210526315|2010      |\n",
      "|[10, 11]      |10    |4 August 2010    |Inception (2010)|2010|4        |0.9090909090909091|2010      |\n",
      "|[14, 16]      |10    |2 August 2010    |Inception (2010)|2010|4        |0.875             |2010      |\n",
      "|[7, 8]        |10    |25 July 2010     |Inception (2010)|2010|4        |0.875             |2010      |\n",
      "|[25, 29]      |9     |3 August 2010    |Inception (2010)|2010|4        |0.8620689655172413|2010      |\n",
      "|[6, 7]        |8     |6 November 2010  |Inception (2010)|2010|4        |0.8571428571428571|2010      |\n",
      "|[1,825, 2,151]|9     |22 August 2010   |Inception (2010)|2010|4        |0.8484425848442585|2010      |\n",
      "|[3, 4]        |9     |17 July 2010     |Inception (2010)|2010|4        |0.75              |2010      |\n",
      "|[3, 4]        |6     |19 November 2010 |Inception (2010)|2010|4        |0.75              |2010      |\n",
      "|[6, 8]        |5     |28 October 2010  |Inception (2010)|2010|4        |0.75              |2010      |\n",
      "|[3, 4]        |7     |6 November 2010  |Inception (2010)|2010|4        |0.75              |2010      |\n",
      "|[9, 12]       |8     |29 September 2010|Inception (2010)|2010|4        |0.75              |2010      |\n",
      "|[3, 4]        |9     |17 July 2010     |Inception (2010)|2010|4        |0.75              |2010      |\n",
      "|[6, 8]        |9     |2 September 2010 |Inception (2010)|2010|4        |0.75              |2010      |\n",
      "|[3, 4]        |6     |3 November 2010  |Inception (2010)|2010|4        |0.75              |2010      |\n",
      "|[5, 7]        |4     |10 September 2010|Inception (2010)|2010|4        |0.7142857142857143|2010      |\n",
      "|[2,098, 2,968]|10    |10 July 2010     |Inception (2010)|2010|4        |0.7068733153638814|2010      |\n",
      "+--------------+------+-----------------+----------------+----+---------+------------------+----------+\n",
      "only showing top 20 rows\n",
      "\n"
     ]
    },
    {
     "name": "stderr",
     "output_type": "stream",
     "text": [
      "                                                                                \r"
     ]
    }
   ],
   "source": [
    "f4.orderBy(col(\"ano\").asc(),col(\"utilidade\").desc()).show(truncate=False)"
   ]
  },
  {
   "cell_type": "code",
   "execution_count": 29,
   "id": "f9eb0390",
   "metadata": {},
   "outputs": [
    {
     "name": "stderr",
     "output_type": "stream",
     "text": [
      "2022-02-20 22:18:10,293 WARN scheduler.TaskSetManager: Stage 57 contains a task of very large size (49754 KB). The maximum recommended task size is 100 KB.\n",
      "                                                                                \r"
     ]
    },
    {
     "name": "stdout",
     "output_type": "stream",
     "text": [
      "+----+------+-------------------+\n",
      "| ano|rating|     max(utilidade)|\n",
      "+----+------+-------------------+\n",
      "|2015|     7|                0.5|\n",
      "|2010|     7|                1.0|\n",
      "|2019|     2|0.16666666666666666|\n",
      "|2013|     4|                1.0|\n",
      "|2010|     4| 0.7142857142857143|\n",
      "|2020|     8|                1.0|\n",
      "|2019|     3| 0.3333333333333333|\n",
      "|2014|     1|                0.8|\n",
      "|2010|     1| 0.6428571428571429|\n",
      "|2021|    10|                0.0|\n",
      "|2016|     7|                0.0|\n",
      "|2014|     8| 0.6666666666666666|\n",
      "|2014|     6|                0.0|\n",
      "|2018|     8|                0.5|\n",
      "|2015|     9| 0.6666666666666666|\n",
      "|2010|     5|               0.75|\n",
      "|2011|     9|                1.0|\n",
      "|2013|     6|                1.0|\n",
      "|2013|     7|                0.5|\n",
      "|2015|     2|                1.0|\n",
      "+----+------+-------------------+\n",
      "only showing top 20 rows\n",
      "\n"
     ]
    }
   ],
   "source": [
    "f4.groupBy(\"ano\", \"rating\").max(\"utilidade\").show()"
   ]
  },
  {
   "cell_type": "code",
   "execution_count": 30,
   "id": "d66abd20",
   "metadata": {},
   "outputs": [
    {
     "name": "stderr",
     "output_type": "stream",
     "text": [
      "2022-02-20 22:18:17,055 WARN scheduler.TaskSetManager: Stage 65 contains a task of very large size (49754 KB). The maximum recommended task size is 100 KB.\n",
      "                                                                                \r"
     ]
    },
    {
     "name": "stdout",
     "output_type": "stream",
     "text": [
      "+----+-----------------+\n",
      "| ano|      avg(rating)|\n",
      "+----+-----------------+\n",
      "|2016|8.666666666666666|\n",
      "|2020|8.783094098883572|\n",
      "|2019|8.838582677165354|\n",
      "|2017|              9.0|\n",
      "|2014|8.578947368421053|\n",
      "|2013|8.459016393442623|\n",
      "|2018| 8.71923076923077|\n",
      "|2011|6.836923076923077|\n",
      "|2021|9.666666666666666|\n",
      "|2015|8.847826086956522|\n",
      "|2010|7.613242574257426|\n",
      "+----+-----------------+\n",
      "\n"
     ]
    }
   ],
   "source": [
    "f4.groupBy(\"ano\").mean(\"rating\").show()"
   ]
  },
  {
   "cell_type": "code",
   "execution_count": 41,
   "id": "817b8efb",
   "metadata": {},
   "outputs": [
    {
     "name": "stdout",
     "output_type": "stream",
     "text": [
      "-0.11568627450980401\n"
     ]
    }
   ],
   "source": [
    "n41 = [7,9,6,1,2,7,8,3,8]\n",
    "n42 = [7.61,6.83,8.45,8.57,8.84,8.66,8.71,8.83,8.78]\n",
    "print(pearson(n41,n42))"
   ]
  },
  {
   "cell_type": "code",
   "execution_count": 225,
   "id": "1eda6a66",
   "metadata": {},
   "outputs": [
    {
     "name": "stderr",
     "output_type": "stream",
     "text": [
      "2022-02-20 11:17:05,479 WARN scheduler.TaskSetManager: Stage 110 contains a task of very large size (49754 KB). The maximum recommended task size is 100 KB.\n",
      "[Stage 110:============================>                            (4 + 4) / 8]"
     ]
    },
    {
     "name": "stdout",
     "output_type": "stream",
     "text": [
      "+----------+------+---------------+-----------------+----+---------+------------------+----------+\n",
      "|helpful   |rating|review_date    |movie            |ano |n_digitos|utilidade         |lancamento|\n",
      "+----------+------+---------------+-----------------+----+---------+------------------+----------+\n",
      "|[1, 1]    |10    |8 April 1999   |The Matrix (1999)|1999|4        |1.0               |1999      |\n",
      "|[1, 1]    |10    |13 June 1999   |The Matrix (1999)|1999|4        |1.0               |1999      |\n",
      "|[1, 1]    |8     |29 March 1999  |The Matrix (1999)|1999|4        |1.0               |1999      |\n",
      "|[1, 1]    |10    |4 April 1999   |The Matrix (1999)|1999|4        |1.0               |1999      |\n",
      "|[1, 1]    |10    |23 July 1999   |The Matrix (1999)|1999|4        |1.0               |1999      |\n",
      "|[1, 1]    |10    |6 April 1999   |The Matrix (1999)|1999|4        |1.0               |1999      |\n",
      "|[1, 1]    |9     |19 April 1999  |The Matrix (1999)|1999|4        |1.0               |1999      |\n",
      "|[1, 1]    |10    |19 April 1999  |The Matrix (1999)|1999|4        |1.0               |1999      |\n",
      "|[1, 1]    |10    |13 June 1999   |The Matrix (1999)|1999|4        |1.0               |1999      |\n",
      "|[1, 1]    |10    |2 April 1999   |The Matrix (1999)|1999|4        |1.0               |1999      |\n",
      "|[1, 1]    |7     |26 August 1999 |The Matrix (1999)|1999|4        |1.0               |1999      |\n",
      "|[1, 1]    |10    |30 August 1999 |The Matrix (1999)|1999|4        |1.0               |1999      |\n",
      "|[10, 14]  |10    |14 April 1999  |The Matrix (1999)|1999|4        |0.7142857142857143|1999      |\n",
      "|[436, 645]|10    |3 April 1999   |The Matrix (1999)|1999|4        |0.6759689922480621|1999      |\n",
      "|[2, 3]    |5     |23 August 1999 |The Matrix (1999)|1999|4        |0.6666666666666666|1999      |\n",
      "|[2, 3]    |9     |29 March 1999  |The Matrix (1999)|1999|4        |0.6666666666666666|1999      |\n",
      "|[6, 11]   |6     |30 October 1999|The Matrix (1999)|1999|4        |0.5454545454545454|1999      |\n",
      "|[197, 373]|9     |6 December 1999|The Matrix (1999)|1999|4        |0.5281501340482574|1999      |\n",
      "|[2, 4]    |4     |15 August 1999 |The Matrix (1999)|1999|4        |0.5               |1999      |\n",
      "|[2, 4]    |10    |18 August 1999 |The Matrix (1999)|1999|4        |0.5               |1999      |\n",
      "+----------+------+---------------+-----------------+----+---------+------------------+----------+\n",
      "only showing top 20 rows\n",
      "\n"
     ]
    },
    {
     "name": "stderr",
     "output_type": "stream",
     "text": [
      "                                                                                \r"
     ]
    }
   ],
   "source": [
    "f5.orderBy(col(\"ano\").asc(),col(\"utilidade\").desc()).show(truncate=False)"
   ]
  },
  {
   "cell_type": "code",
   "execution_count": 31,
   "id": "adf895ba",
   "metadata": {},
   "outputs": [
    {
     "name": "stderr",
     "output_type": "stream",
     "text": [
      "2022-02-20 22:18:24,513 WARN scheduler.TaskSetManager: Stage 75 contains a task of very large size (49754 KB). The maximum recommended task size is 100 KB.\n",
      "                                                                                \r"
     ]
    },
    {
     "name": "stdout",
     "output_type": "stream",
     "text": [
      "+----+------+-------------------+\n",
      "| ano|rating|     max(utilidade)|\n",
      "+----+------+-------------------+\n",
      "|2015|     7| 0.6666666666666666|\n",
      "|2002|     9|                0.5|\n",
      "|2010|     7| 0.3333333333333333|\n",
      "|1999|     7|                1.0|\n",
      "|2002|     1| 0.4230769230769231|\n",
      "|2006|     2| 0.4166666666666667|\n",
      "|2002|     6|                0.5|\n",
      "|2003|     2|0.45454545454545453|\n",
      "|2020|     8|                1.0|\n",
      "|2019|     3|0.16666666666666666|\n",
      "|2006|     6|                0.0|\n",
      "|2021|    10|                1.0|\n",
      "|2016|     7| 0.5909090909090909|\n",
      "|2003|     5| 0.3333333333333333|\n",
      "|2001|     8|                0.5|\n",
      "|2008|     3|0.42857142857142855|\n",
      "|2014|     8|                0.5|\n",
      "|2018|     8|                1.0|\n",
      "|1999|     1| 0.4166666666666667|\n",
      "|2002|     7|                0.5|\n",
      "+----+------+-------------------+\n",
      "only showing top 20 rows\n",
      "\n"
     ]
    }
   ],
   "source": [
    "f5.groupBy(\"ano\", \"rating\").max(\"utilidade\").show()"
   ]
  },
  {
   "cell_type": "code",
   "execution_count": 32,
   "id": "980518b1",
   "metadata": {},
   "outputs": [
    {
     "name": "stderr",
     "output_type": "stream",
     "text": [
      "2022-02-20 22:18:31,885 WARN scheduler.TaskSetManager: Stage 83 contains a task of very large size (49754 KB). The maximum recommended task size is 100 KB.\n",
      "                                                                                \r"
     ]
    },
    {
     "name": "stdout",
     "output_type": "stream",
     "text": [
      "+----+-----------------+\n",
      "| ano|      avg(rating)|\n",
      "+----+-----------------+\n",
      "|2016|8.823529411764707|\n",
      "|2020|8.696969696969697|\n",
      "|2019|9.005681818181818|\n",
      "|2017|8.511627906976743|\n",
      "|2014|9.325581395348838|\n",
      "|2013|9.065573770491802|\n",
      "|2005|8.076923076923077|\n",
      "|2000|8.068852459016393|\n",
      "|2002|7.982456140350878|\n",
      "|2018|8.899441340782124|\n",
      "|2009|7.583333333333333|\n",
      "|2006|              8.0|\n",
      "|2004| 7.52112676056338|\n",
      "|2011|8.678571428571429|\n",
      "|2008| 8.64102564102564|\n",
      "|1999|8.616666666666667|\n",
      "|2007|              9.8|\n",
      "|2021|9.157894736842104|\n",
      "|2015|8.714285714285714|\n",
      "|2001|7.933333333333334|\n",
      "+----+-----------------+\n",
      "only showing top 20 rows\n",
      "\n"
     ]
    }
   ],
   "source": [
    "f5.groupBy(\"ano\").mean(\"rating\").show()"
   ]
  },
  {
   "cell_type": "code",
   "execution_count": 43,
   "id": "b5901acb",
   "metadata": {},
   "outputs": [
    {
     "name": "stdout",
     "output_type": "stream",
     "text": [
      "0.07576923076923081\n"
     ]
    }
   ],
   "source": [
    "n51 = [7,8,9,2,2,3,7,8,7,8,3,8]\n",
    "n52 = [8.61,7.93,7.98,7.98,8.0,7.58,9.32,8.71,8.89,9.0,8.69,8.3]\n",
    "print(pearson(n51,n52))"
   ]
  },
  {
   "cell_type": "code",
   "execution_count": 227,
   "id": "30809b8b",
   "metadata": {},
   "outputs": [],
   "source": [
    "#pega reviews depois da top-review\n",
    "df1 = f1.filter(f1.ano > 1998)\n",
    "df2 = f2.filter(f2.ano > 2008)\n",
    "df3 = f3.filter(f3.ano > 2001)\n",
    "df4 = f4.filter(f4.ano > 2010)\n",
    "df5 = f5.filter(f5.ano > 1999)\n",
    "\n",
    "df1 = df1.withColumn(\"rating\", df1[\"rating\"].cast(IntegerType()))\n",
    "df2 = df2.withColumn(\"rating\", df2[\"rating\"].cast(IntegerType()))\n",
    "df3 = df3.withColumn(\"rating\", df3[\"rating\"].cast(IntegerType()))\n",
    "df4 = df4.withColumn(\"rating\", df4[\"rating\"].cast(IntegerType()))\n",
    "df5 = df5.withColumn(\"rating\", df5[\"rating\"].cast(IntegerType()))"
   ]
  },
  {
   "cell_type": "code",
   "execution_count": 228,
   "id": "76848708",
   "metadata": {},
   "outputs": [],
   "source": [
    "#tira média das depois \n",
    "df1 = df1.groupBy(\"ano\").mean(\"rating\")\n",
    "df2 = df2.groupBy(\"ano\").mean(\"rating\")\n",
    "df3 = df3.groupBy(\"ano\").mean(\"rating\")\n",
    "df4 = df4.groupBy(\"ano\").mean(\"rating\")\n",
    "df5 = df5.groupBy(\"ano\").mean(\"rating\")"
   ]
  },
  {
   "cell_type": "code",
   "execution_count": 229,
   "id": "678862da",
   "metadata": {},
   "outputs": [
    {
     "name": "stderr",
     "output_type": "stream",
     "text": [
      "2022-02-20 11:33:28,424 WARN scheduler.TaskSetManager: Stage 111 contains a task of very large size (49754 KB). The maximum recommended task size is 100 KB.\n",
      "                                                                                \r"
     ]
    },
    {
     "name": "stdout",
     "output_type": "stream",
     "text": [
      "+----+-----------------+\n",
      "| ano|      avg(rating)|\n",
      "+----+-----------------+\n",
      "|2016|9.403448275862068|\n",
      "|2020|9.366528354080222|\n",
      "|2019|9.244916820702404|\n",
      "|2017|9.418439716312056|\n",
      "|2014|9.406976744186046|\n",
      "|2013|9.452513966480447|\n",
      "|2005|9.368421052631579|\n",
      "|2000|9.325301204819278|\n",
      "|2002| 9.06989247311828|\n",
      "|2018|9.389662027833001|\n",
      "|2009|              9.0|\n",
      "|2006|8.848101265822784|\n",
      "|2004|9.072368421052632|\n",
      "|2011| 9.23157894736842|\n",
      "|2008| 9.20388349514563|\n",
      "|1999|9.154639175257731|\n",
      "|2007|9.263157894736842|\n",
      "|2021|          9.46875|\n",
      "|2015|9.366666666666667|\n",
      "|2001|9.388235294117647|\n",
      "+----+-----------------+\n",
      "only showing top 20 rows\n",
      "\n"
     ]
    }
   ],
   "source": [
    "df1.show()"
   ]
  },
  {
   "cell_type": "code",
   "execution_count": 12,
   "id": "8820c62d",
   "metadata": {},
   "outputs": [],
   "source": [
    "anos1 = [1999, 2000, 2001, 2002, 2004, 2005, 2006, 2007, 2008, 2009, 2011, 2013, 2014, 2015, 2016, 2017, 2018, 2019, 2020, 2021]\n",
    "notas1 = [9.15, 9.32, 9.38, 9.06, 9.07, 9.36, 8.84, 9.26, 9.20, 9.0, 9.23, 9.45, 9.40, 9.36, 9.40, 9.41, 9.38, 9.24, 9.36, 9.46]\n",
    "t1 = [10,10,10,10,10,10,10,10,10,10,10,10,10,10,10,10,10,10, 10, 10]"
   ]
  },
  {
   "cell_type": "code",
   "execution_count": 19,
   "id": "47123acf",
   "metadata": {},
   "outputs": [
    {
     "name": "stdout",
     "output_type": "stream",
     "text": [
      "0.013572250000000891\n",
      "0.016434500000000473\n",
      "0.029316749999999704\n",
      "0.07195900000000122\n",
      "0.11057125000000274\n",
      "0.11931350000000185\n",
      "0.30121575000000556\n",
      "0.30125800000000563\n",
      "0.30568025000000626\n",
      "0.3767025000000085\n",
      "0.37803475000000875\n",
      "0.41170700000000693\n",
      "0.4295292500000059\n",
      "0.43827150000000503\n",
      "0.456093750000004\n",
      "0.47668600000000283\n",
      "0.48956825000000204\n",
      "0.4902705000000023\n",
      "0.4990127500000014\n",
      "0.5364550000000001\n"
     ]
    },
    {
     "ename": "ZeroDivisionError",
     "evalue": "float division by zero",
     "output_type": "error",
     "traceback": [
      "\u001b[0;31m---------------------------------------------------------------------------\u001b[0m",
      "\u001b[0;31mZeroDivisionError\u001b[0m                         Traceback (most recent call last)",
      "\u001b[0;32m/tmp/ipykernel_2991/3415779691.py\u001b[0m in \u001b[0;36m<module>\u001b[0;34m\u001b[0m\n\u001b[0;32m----> 1\u001b[0;31m \u001b[0mprint\u001b[0m\u001b[0;34m(\u001b[0m\u001b[0mpearson\u001b[0m\u001b[0;34m(\u001b[0m\u001b[0mnotas1\u001b[0m\u001b[0;34m,\u001b[0m \u001b[0mt1\u001b[0m\u001b[0;34m)\u001b[0m\u001b[0;34m)\u001b[0m\u001b[0;34m\u001b[0m\u001b[0;34m\u001b[0m\u001b[0m\n\u001b[0m",
      "\u001b[0;32m/tmp/ipykernel_2991/2242392673.py\u001b[0m in \u001b[0;36mpearson\u001b[0;34m(x, y)\u001b[0m\n\u001b[1;32m     23\u001b[0m     \u001b[0mfator3\u001b[0m \u001b[0;34m=\u001b[0m \u001b[0mmath\u001b[0m\u001b[0;34m.\u001b[0m\u001b[0msqrt\u001b[0m\u001b[0;34m(\u001b[0m\u001b[0mfator2\u001b[0m\u001b[0;34m)\u001b[0m\u001b[0;34m\u001b[0m\u001b[0;34m\u001b[0m\u001b[0m\n\u001b[1;32m     24\u001b[0m \u001b[0;34m\u001b[0m\u001b[0m\n\u001b[0;32m---> 25\u001b[0;31m     \u001b[0;32mreturn\u001b[0m \u001b[0;34m(\u001b[0m\u001b[0mfator1\u001b[0m\u001b[0;34m/\u001b[0m\u001b[0mfator3\u001b[0m\u001b[0;34m)\u001b[0m\u001b[0;34m\u001b[0m\u001b[0;34m\u001b[0m\u001b[0m\n\u001b[0m",
      "\u001b[0;31mZeroDivisionError\u001b[0m: float division by zero"
     ]
    }
   ],
   "source": [
    "print(pearson(notas1, t1))"
   ]
  },
  {
   "cell_type": "code",
   "execution_count": 237,
   "id": "78130406",
   "metadata": {},
   "outputs": [
    {
     "data": {
      "image/png": "[encoded data removed]",
      "text/plain": [
       "<Figure size 432x288 with 1 Axes>"
      ]
     },
     "metadata": {
      "needs_background": "light"
     },
     "output_type": "display_data"
    }
   ],
   "source": [
    "plt.plot(anos1, notas1, label=\"The Shawshank Redemption\")\n",
    "plt.plot(anos1, t1)\n",
    "\n",
    "plt.xlabel(\"Anos\",fontsize=13)\n",
    "plt.ylabel(\"Avaliações\",fontsize=13)\n",
    "plt.legend()\n",
    "plt.show()"
   ]
  },
  {
   "cell_type": "code",
   "execution_count": 230,
   "id": "94681687",
   "metadata": {},
   "outputs": [
    {
     "name": "stderr",
     "output_type": "stream",
     "text": [
      "2022-02-20 11:33:48,534 WARN scheduler.TaskSetManager: Stage 123 contains a task of very large size (49754 KB). The maximum recommended task size is 100 KB.\n",
      "                                                                                \r"
     ]
    },
    {
     "name": "stdout",
     "output_type": "stream",
     "text": [
      "+----+-----------------+\n",
      "| ano|      avg(rating)|\n",
      "+----+-----------------+\n",
      "|2016| 9.04739336492891|\n",
      "|2020|9.161629434954008|\n",
      "|2019| 9.21294964028777|\n",
      "|2017|9.147058823529411|\n",
      "|2014|             9.25|\n",
      "|2013|9.190871369294605|\n",
      "|2018|9.301587301587302|\n",
      "|2009|6.941935483870968|\n",
      "|2011|8.333333333333334|\n",
      "|2021|8.782608695652174|\n",
      "|2015| 9.06159420289855|\n",
      "|2010| 8.30232558139535|\n",
      "+----+-----------------+\n",
      "\n"
     ]
    }
   ],
   "source": [
    "df2.show()"
   ]
  },
  {
   "cell_type": "code",
   "execution_count": 241,
   "id": "73fc24e4",
   "metadata": {},
   "outputs": [],
   "source": [
    "anos2 = [2009, 2010, 2011, 2013, 2014, 2015, 2016, 2017, 2018, 2019, 2020, 2021]\n",
    "notas2 = [6.94, 8.30, 8.33, 9.19, 9.25, 9.06, 9.04, 9.14, 9.30, 9.21, 9.16, 8.78]"
   ]
  },
  {
   "cell_type": "code",
   "execution_count": 243,
   "id": "8a671835",
   "metadata": {},
   "outputs": [
    {
     "data": {
      "image/png": "[encoded data removed]",
      "text/plain": [
       "<Figure size 432x288 with 1 Axes>"
      ]
     },
     "metadata": {
      "needs_background": "light"
     },
     "output_type": "display_data"
    }
   ],
   "source": [
    "plt.plot(anos2, notas2, label=\"The Dark Knight \")\n",
    "t2 = [10,10,10,10,10,10,10,10,10,10,10,10]\n",
    "plt.plot(anos2, t2)\n",
    "\n",
    "\n",
    "plt.xlabel(\"Anos\",fontsize=13)\n",
    "plt.ylabel(\"Avaliações\",fontsize=13)\n",
    "plt.legend()\n",
    "plt.show()"
   ]
  },
  {
   "cell_type": "code",
   "execution_count": 231,
   "id": "3c265ab5",
   "metadata": {},
   "outputs": [
    {
     "name": "stderr",
     "output_type": "stream",
     "text": [
      "2022-02-20 11:34:04,145 WARN scheduler.TaskSetManager: Stage 133 contains a task of very large size (49754 KB). The maximum recommended task size is 100 KB.\n",
      "                                                                                \r"
     ]
    },
    {
     "name": "stdout",
     "output_type": "stream",
     "text": [
      "+----+-----------------+\n",
      "| ano|      avg(rating)|\n",
      "+----+-----------------+\n",
      "|2016|9.472222222222221|\n",
      "|2020|8.895454545454545|\n",
      "|2019|8.723577235772357|\n",
      "|2017|8.523809523809524|\n",
      "|2014|8.777777777777779|\n",
      "|2013|9.142857142857142|\n",
      "|2005|8.132075471698114|\n",
      "|2002|  8.2932944606414|\n",
      "|2018|           8.7625|\n",
      "|2009|            9.375|\n",
      "|2006|7.153846153846154|\n",
      "|2004|8.226415094339623|\n",
      "|2011|8.774193548387096|\n",
      "|2008|8.088888888888889|\n",
      "|2007|8.153846153846153|\n",
      "|2021|              7.0|\n",
      "|2015|              8.5|\n",
      "|2010| 8.80952380952381|\n",
      "|2003|7.940520446096654|\n",
      "+----+-----------------+\n",
      "\n"
     ]
    }
   ],
   "source": [
    "df3.show()"
   ]
  },
  {
   "cell_type": "code",
   "execution_count": 244,
   "id": "16469169",
   "metadata": {},
   "outputs": [],
   "source": [
    "anos3 = [2002, 2003, 2004, 2005, 2006, 2007, 2008, 2009, 2010, 2011, 2013, 2014, 2015, 2016, 2017, 2018, 2019, 2020,2021]\n",
    "notas3 = [8.29,7.94,8.22,8.13,7.15,8.15,8.08,9.37,8.80,8.77,9.14,8.77,8.5,9.47,8.52,8.76,8.72,8.89,7.0]"
   ]
  },
  {
   "cell_type": "code",
   "execution_count": 246,
   "id": "75e9c150",
   "metadata": {},
   "outputs": [
    {
     "data": {
      "image/png": "[encoded data removed]",
      "text/plain": [
       "<Figure size 432x288 with 1 Axes>"
      ]
     },
     "metadata": {
      "needs_background": "light"
     },
     "output_type": "display_data"
    }
   ],
   "source": [
    "plt.plot(anos3, notas3, label=\"The Lord of the Rings: The Fellowship of the Ring\")\n",
    "t3 = [10,10,10,10,10,10,10,10,10,10,10,10,10,10,10,10,10,10,10]\n",
    "plt.plot(anos3, t3)\n",
    "\n",
    "\n",
    "plt.xlabel(\"Anos\",fontsize=13)\n",
    "plt.ylabel(\"Avaliações\",fontsize=13)\n",
    "plt.legend()\n",
    "plt.show()"
   ]
  },
  {
   "cell_type": "code",
   "execution_count": 232,
   "id": "550609ca",
   "metadata": {},
   "outputs": [
    {
     "name": "stderr",
     "output_type": "stream",
     "text": [
      "2022-02-20 11:34:22,575 WARN scheduler.TaskSetManager: Stage 143 contains a task of very large size (49754 KB). The maximum recommended task size is 100 KB.\n",
      "                                                                                \r"
     ]
    },
    {
     "name": "stdout",
     "output_type": "stream",
     "text": [
      "+----+-----------------+\n",
      "| ano|      avg(rating)|\n",
      "+----+-----------------+\n",
      "|2016|8.666666666666666|\n",
      "|2020|8.783094098883572|\n",
      "|2019|8.838582677165354|\n",
      "|2017|              9.0|\n",
      "|2014|8.578947368421053|\n",
      "|2013|8.459016393442623|\n",
      "|2018| 8.71923076923077|\n",
      "|2011|6.836923076923077|\n",
      "|2021|9.666666666666666|\n",
      "|2015|8.847826086956522|\n",
      "+----+-----------------+\n",
      "\n"
     ]
    }
   ],
   "source": [
    "df4.show()"
   ]
  },
  {
   "cell_type": "code",
   "execution_count": 247,
   "id": "51200677",
   "metadata": {},
   "outputs": [],
   "source": [
    "anos4 = [2011, 2013, 2014, 2015, 2016, 2017, 2018, 2019, 2020, 2021]\n",
    "notas4 = [6.83, 8.45, 8.57, 8.84, 8.66, 9.0, 8.71, 8.83, 8.78, 9.66]"
   ]
  },
  {
   "cell_type": "code",
   "execution_count": 249,
   "id": "da83e087",
   "metadata": {},
   "outputs": [
    {
     "data": {
      "image/png": "[encoded data removed]",
      "text/plain": [
       "<Figure size 432x288 with 1 Axes>"
      ]
     },
     "metadata": {
      "needs_background": "light"
     },
     "output_type": "display_data"
    }
   ],
   "source": [
    "plt.plot(anos4, notas4, label=\"Inception\")\n",
    "t4 = [9,9,9,9,9,9,9,9,9,9]\n",
    "plt.plot(anos4, t4)\n",
    "\n",
    "\n",
    "plt.xlabel(\"Anos\",fontsize=13)\n",
    "plt.ylabel(\"Avaliações\",fontsize=13)\n",
    "plt.legend()\n",
    "plt.show()"
   ]
  },
  {
   "cell_type": "code",
   "execution_count": 233,
   "id": "441d640b",
   "metadata": {},
   "outputs": [
    {
     "name": "stderr",
     "output_type": "stream",
     "text": [
      "2022-02-20 11:34:32,904 WARN scheduler.TaskSetManager: Stage 153 contains a task of very large size (49754 KB). The maximum recommended task size is 100 KB.\n",
      "                                                                                \r"
     ]
    },
    {
     "name": "stdout",
     "output_type": "stream",
     "text": [
      "+----+-----------------+\n",
      "| ano|      avg(rating)|\n",
      "+----+-----------------+\n",
      "|2016|8.823529411764707|\n",
      "|2020|8.696969696969697|\n",
      "|2019|9.005681818181818|\n",
      "|2017|8.511627906976743|\n",
      "|2014|9.325581395348838|\n",
      "|2013|9.065573770491802|\n",
      "|2005|8.076923076923077|\n",
      "|2000|8.068852459016393|\n",
      "|2002|7.982456140350878|\n",
      "|2018|8.899441340782124|\n",
      "|2009|7.583333333333333|\n",
      "|2006|              8.0|\n",
      "|2004| 7.52112676056338|\n",
      "|2011|8.678571428571429|\n",
      "|2008| 8.64102564102564|\n",
      "|2007|              9.8|\n",
      "|2021|9.157894736842104|\n",
      "|2015|8.714285714285714|\n",
      "|2001|7.933333333333334|\n",
      "|2010|              9.0|\n",
      "+----+-----------------+\n",
      "only showing top 20 rows\n",
      "\n"
     ]
    }
   ],
   "source": [
    "df5.show()"
   ]
  },
  {
   "cell_type": "code",
   "execution_count": 251,
   "id": "ef3ad21d",
   "metadata": {},
   "outputs": [],
   "source": [
    "anos5 = [2000, 2001, 2002, 2004, 2005, 2006, 2007, 2008, 2009, 2010, 2011, 2013, 2014, 2015, 2016, 2017, 2018, 2019, 2020, 2021]\n",
    "notas5 = [8.06,7.93,7.98,7.52,8.07,8.0,9.8,8.64,7.58,9.0,8.67,9.06,9.32,8.71,8.82,8.51,8.89,9.0,8.69,9.15]"
   ]
  },
  {
   "cell_type": "code",
   "execution_count": 253,
   "id": "70a5eb3a",
   "metadata": {
    "scrolled": true
   },
   "outputs": [
    {
     "data": {
      "image/png": "[encoded data removed]",
      "text/plain": [
       "<Figure size 432x288 with 1 Axes>"
      ]
     },
     "metadata": {
      "needs_background": "light"
     },
     "output_type": "display_data"
    }
   ],
   "source": [
    "plt.plot(anos5, notas5, label=\"The Matrix\")\n",
    "t5 = [10,10,10,10,10,10,10,10,10,10,10,10,10,10,10,10,10,10,10,10]\n",
    "plt.plot(anos5, t5)\n",
    "\n",
    "\n",
    "plt.xlabel(\"Anos\",fontsize=13)\n",
    "plt.ylabel(\"Avaliações\",fontsize=13)\n",
    "plt.legend()\n",
    "plt.show()"
   ]
  },
  {
   "cell_type": "markdown",
   "id": "4bbdc1f1",
   "metadata": {},
   "source": [
    "Classificador para prever a nota dos filmes com base nas reviews dos usuários - baseado no conteúdo. Qual a acurácia?"
   ]
  },
  {
   "cell_type": "code",
   "execution_count": 30,
   "id": "f8aafe67",
   "metadata": {},
   "outputs": [],
   "source": [
    "import pyspark.ml.feature\n",
    "from pyspark.ml.feature import Tokenizer, StopWordsRemover, CountVectorizer, IDF, StringIndexer"
   ]
  },
  {
   "cell_type": "code",
   "execution_count": 61,
   "id": "4229028e",
   "metadata": {},
   "outputs": [],
   "source": [
    "df8 = df_spark.select(col(\"review_date\"),col(\"review_detail\"),col(\"rating\"))\n",
    "df8 = df8.dropna()"
   ]
  },
  {
   "cell_type": "code",
   "execution_count": 62,
   "id": "9609af4a",
   "metadata": {},
   "outputs": [],
   "source": [
    "df8 = df8.withColumn('ano', regexp_extract(\"review_date\", \"(\\\\d{4})\" , 1))\n",
    "df8 = df8.withColumn(\"rating\", df8[\"rating\"].cast(IntegerType()))\n",
    "df8 = df8.withColumn('n_digitos', F.length('ano'))\n",
    "df8 = df8.filter(df8.n_digitos == '4')"
   ]
  },
  {
   "cell_type": "code",
   "execution_count": 63,
   "id": "00e2afc2",
   "metadata": {},
   "outputs": [],
   "source": [
    "df8 = df8.filter(df8.ano == 2007)"
   ]
  },
  {
   "cell_type": "code",
   "execution_count": 64,
   "id": "a23047fc",
   "metadata": {},
   "outputs": [],
   "source": [
    "df8 = df8.select(col(\"review_detail\"),col(\"rating\"))"
   ]
  },
  {
   "cell_type": "code",
   "execution_count": 65,
   "id": "278916dc",
   "metadata": {},
   "outputs": [
    {
     "name": "stderr",
     "output_type": "stream",
     "text": [
      "[Stage 12:======================================>                   (2 + 1) / 3]"
     ]
    },
    {
     "name": "stdout",
     "output_type": "stream",
     "text": [
      "+--------------------+------+\n",
      "|       review_detail|rating|\n",
      "+--------------------+------+\n",
      "|The setting is pe...|    10|\n",
      "|\"Babel\" has recei...|     8|\n",
      "|Bogie had done fi...|     9|\n",
      "|I don't know if t...|    10|\n",
      "|The most recent f...|     5|\n",
      "|There were actual...|     5|\n",
      "|Suspenseful, intr...|    10|\n",
      "|A big surprise, p...|     8|\n",
      "|it has been at le...|    10|\n",
      "|Soderbergh is a d...|     7|\n",
      "|I just read a com...|    10|\n",
      "|It's a crowd-plea...|     8|\n",
      "|I'm not really in...|    10|\n",
      "|Apparently there ...|     5|\n",
      "|I'm not a film bu...|     8|\n",
      "|Notes On A Scanda...|    10|\n",
      "|Few artists span ...|     9|\n",
      "|I spent many summ...|     9|\n",
      "|Wow, this movie h...|    10|\n",
      "|The storyline is ...|     8|\n",
      "+--------------------+------+\n",
      "only showing top 20 rows\n",
      "\n"
     ]
    },
    {
     "name": "stderr",
     "output_type": "stream",
     "text": [
      "                                                                                \r"
     ]
    }
   ],
   "source": [
    "df8.show()"
   ]
  },
  {
   "cell_type": "code",
   "execution_count": 66,
   "id": "31abba62",
   "metadata": {},
   "outputs": [],
   "source": [
    "tokenizer = Tokenizer(inputCol='review_detail',outputCol='mytokens')\n",
    "stopwords_remover = StopWordsRemover(inputCol='mytokens',outputCol='filtered_tokens')\n",
    "vectorizer = CountVectorizer(inputCol='filtered_tokens',outputCol='rawFeatures')\n",
    "idf = IDF(inputCol='rawFeatures',outputCol='vectorizedFeatures')"
   ]
  },
  {
   "cell_type": "code",
   "execution_count": 67,
   "id": "178d8c40",
   "metadata": {},
   "outputs": [],
   "source": [
    "train, test = df8.randomSplit((0.7,0.3),seed=42)"
   ]
  },
  {
   "cell_type": "code",
   "execution_count": 68,
   "id": "93c18e23",
   "metadata": {},
   "outputs": [],
   "source": [
    "from pyspark.ml.classification import LogisticRegression"
   ]
  },
  {
   "cell_type": "code",
   "execution_count": 69,
   "id": "c6e9c7ff",
   "metadata": {},
   "outputs": [],
   "source": [
    "lr = LogisticRegression(featuresCol='vectorizedFeatures', labelCol='rating')"
   ]
  },
  {
   "cell_type": "code",
   "execution_count": 71,
   "id": "658a6731",
   "metadata": {},
   "outputs": [],
   "source": [
    "from pyspark.ml import Pipeline "
   ]
  },
  {
   "cell_type": "code",
   "execution_count": 72,
   "id": "311f4979",
   "metadata": {},
   "outputs": [],
   "source": [
    "pipeline = Pipeline(stages=[tokenizer,stopwords_remover,vectorizer,idf,lr])"
   ]
  },
  {
   "cell_type": "code",
   "execution_count": 73,
   "id": "6f4eeb1a",
   "metadata": {},
   "outputs": [
    {
     "name": "stderr",
     "output_type": "stream",
     "text": [
      "2022-02-21 00:49:04,058 WARN netlib.BLAS: Failed to load implementation from: com.github.fommil.netlib.NativeSystemBLAS\n",
      "2022-02-21 00:49:04,059 WARN netlib.BLAS: Failed to load implementation from: com.github.fommil.netlib.NativeRefBLAS\n",
      "                                                                                \r"
     ]
    }
   ],
   "source": [
    "lr_model = pipeline.fit(train)"
   ]
  },
  {
   "cell_type": "code",
   "execution_count": 74,
   "id": "988ac848",
   "metadata": {},
   "outputs": [],
   "source": [
    "predictions = lr_model.transform(test)"
   ]
  },
  {
   "cell_type": "code",
   "execution_count": 75,
   "id": "3e251889",
   "metadata": {},
   "outputs": [
    {
     "name": "stderr",
     "output_type": "stream",
     "text": [
      "[Stage 68:======================================>                   (2 + 1) / 3]"
     ]
    },
    {
     "name": "stdout",
     "output_type": "stream",
     "text": [
      "+--------------------+------+--------------------+--------------------+--------------------+--------------------+--------------------+--------------------+----------+\n",
      "|       review_detail|rating|            mytokens|     filtered_tokens|         rawFeatures|  vectorizedFeatures|       rawPrediction|         probability|prediction|\n",
      "+--------------------+------+--------------------+--------------------+--------------------+--------------------+--------------------+--------------------+----------+\n",
      "|\"28 Days Later\" i...|     9|[\"28, days, later...|[\"28, days, later...|(215507,[1,7,9,10...|(215507,[1,7,9,10...|[-6.8023635802190...|[1.55862066671564...|      10.0|\n",
      "|\"A Classic is som...|    10|[\"a, classic, is,...|[\"a, classic, som...|(215507,[0,2,3,4,...|(215507,[0,2,3,4,...|[-6.9177863892700...|[4.99858210958889...|       8.0|\n",
      "|\"A Free Soul\" mad...|     6|[\"a, free, soul\",...|[\"a, free, soul\",...|(215507,[3,4,5,7,...|(215507,[3,4,5,7,...|[-6.7709975730557...|[1.62727491165385...|       7.0|\n",
      "|\"A good woman\", a...|     7|[\"a, good, woman\"...|[\"a, good, woman\"...|(215507,[1,5,9,26...|(215507,[1,5,9,26...|[-6.7762195715709...|[5.21604991472138...|       2.0|\n",
      "|\"A woman cannot b...|     6|[\"a, woman, canno...|[\"a, woman, taint...|(215507,[2,3,6,13...|(215507,[2,3,6,13...|[-6.8198895214278...|[2.68397329381597...|       5.0|\n",
      "|\"Accepted\" (2006)...|     7|[\"accepted\", (200...|[\"accepted\", (200...|(215507,[0,1,3,4,...|(215507,[0,1,3,4,...|[-6.9520703029844...|[1.39789330765159...|       8.0|\n",
      "|\"After her role i...|     7|[\"after, her, rol...|[\"after, role, ye...|(215507,[0,1,3,4,...|(215507,[0,1,3,4,...|[-6.9682835766201...|[1.11402061584702...|       9.0|\n",
      "|\"Alice\" is a sad ...|     8|[\"alice\", is, a, ...|[\"alice\", sad, de...|(215507,[0,1,2,3,...|(215507,[0,1,2,3,...|[-6.8120808423816...|[2.21357428530651...|      10.0|\n",
      "|\"Ambush\" had me i...|     4|[\"ambush\", had, m...|[\"ambush\", intere...|(215507,[1,2,4,7,...|(215507,[1,2,4,7,...|[-6.7970292713684...|[2.04415694504249...|       8.0|\n",
      "|\"America's Sweeth...|     6|[\"america's, swee...|[\"america's, swee...|(215507,[0,1,2,3,...|(215507,[0,1,2,3,...|[-6.8030238426303...|[7.71705209279164...|       8.0|\n",
      "|\"American Beauty\"...|    10|[\"american, beaut...|[\"american, beaut...|(215507,[0,1,2,3,...|(215507,[0,1,2,3,...|[-6.8311403810423...|[6.43321097924537...|       8.0|\n",
      "|\"American History...|     7|[\"american, histo...|[\"american, histo...|(215507,[0,1,4,5,...|(215507,[0,1,4,5,...|[-6.7993956919443...|[2.29162293163697...|       8.0|\n",
      "|\"Amerika\" had pot...|     2|[\"amerika\", had, ...|[\"amerika\", poten...|(215507,[0,8,10,1...|(215507,[0,8,10,1...|[-6.7784804087961...|[2.30774253347701...|       1.0|\n",
      "|\"An Inconvenient ...|    10|[\"an, inconvenien...|[\"an, inconvenien...|(215507,[0,1,8,26...|(215507,[0,1,8,26...|[-6.7882061840723...|[8.00497451513998...|      10.0|\n",
      "|\"And... The hat. ...|     7|[\"and..., the, ha...|[\"and..., hat., f...|(215507,[0,1,3,4,...|(215507,[0,1,3,4,...|[-6.7948878422386...|[4.86124536579772...|       8.0|\n",
      "|\"Ann Lawson,\" a p...|     8|[\"ann, lawson,\", ...|[\"ann, lawson,\", ...|(215507,[1,3,10,6...|(215507,[1,3,10,6...|[-6.7764439640009...|[3.75630348815874...|       9.0|\n",
      "|\"Apocalypto\" is a...|     8|[\"apocalypto\", is...|[\"apocalypto\", ex...|(215507,[0,2,3,9,...|(215507,[0,2,3,9,...|[-6.8195479005169...|[4.04669070942603...|       7.0|\n",
      "|\"Aranyer Din Ratr...|    10|[\"aranyer, din, r...|[\"aranyer, din, r...|(215507,[0,3,9,32...|(215507,[0,3,9,32...|[-6.7705001393348...|[1.01736998884003...|      10.0|\n",
      "|\"Are you kidding?...|     9|[\"are, you, kiddi...|[\"are, kidding?, ...|(215507,[0,9,11,1...|(215507,[0,9,11,1...|[-6.7895654014245...|[1.38539919235218...|       7.0|\n",
      "|\"At Midnight, I'l...|    10|[\"at, midnight,, ...|[\"at, midnight,, ...|(215507,[0,2,3,5,...|(215507,[0,2,3,5,...|[-6.9017320813423...|[1.41990224133726...|       8.0|\n",
      "+--------------------+------+--------------------+--------------------+--------------------+--------------------+--------------------+--------------------+----------+\n",
      "only showing top 20 rows\n",
      "\n"
     ]
    },
    {
     "name": "stderr",
     "output_type": "stream",
     "text": [
      "                                                                                \r"
     ]
    }
   ],
   "source": [
    "predictions.show()"
   ]
  },
  {
   "cell_type": "code",
   "execution_count": 76,
   "id": "b197431d",
   "metadata": {},
   "outputs": [
    {
     "name": "stderr",
     "output_type": "stream",
     "text": [
      "[Stage 70:======================================>                   (2 + 1) / 3]"
     ]
    },
    {
     "name": "stdout",
     "output_type": "stream",
     "text": [
      "+------+----------+\n",
      "|rating|prediction|\n",
      "+------+----------+\n",
      "|     9|      10.0|\n",
      "|    10|       8.0|\n",
      "|     6|       7.0|\n",
      "|     7|       2.0|\n",
      "|     6|       5.0|\n",
      "|     7|       8.0|\n",
      "|     7|       9.0|\n",
      "|     8|      10.0|\n",
      "|     4|       8.0|\n",
      "|     6|       8.0|\n",
      "|    10|       8.0|\n",
      "|     7|       8.0|\n",
      "|     2|       1.0|\n",
      "|    10|      10.0|\n",
      "|     7|       8.0|\n",
      "|     8|       9.0|\n",
      "|     8|       7.0|\n",
      "|    10|      10.0|\n",
      "|     9|       7.0|\n",
      "|    10|       8.0|\n",
      "+------+----------+\n",
      "only showing top 20 rows\n",
      "\n"
     ]
    },
    {
     "name": "stderr",
     "output_type": "stream",
     "text": [
      "                                                                                \r"
     ]
    }
   ],
   "source": [
    "predictions = predictions.select(col(\"rating\"),col(\"prediction\"))\n",
    "predictions.show()"
   ]
  },
  {
   "cell_type": "code",
   "execution_count": 77,
   "id": "5d2e50b5",
   "metadata": {},
   "outputs": [],
   "source": [
    "from pyspark.ml.evaluation import MulticlassClassificationEvaluator"
   ]
  },
  {
   "cell_type": "code",
   "execution_count": 79,
   "id": "ee95d93a",
   "metadata": {},
   "outputs": [
    {
     "name": "stderr",
     "output_type": "stream",
     "text": [
      "                                                                                \r"
     ]
    }
   ],
   "source": [
    "evaluator = MulticlassClassificationEvaluator(labelCol='rating',predictionCol='prediction',metricName='accuracy')\n",
    "acuracia = evaluator.evaluate(predictions)"
   ]
  },
  {
   "cell_type": "code",
   "execution_count": 80,
   "id": "96591123",
   "metadata": {},
   "outputs": [
    {
     "data": {
      "text/plain": [
       "0.31796448087431695"
      ]
     },
     "execution_count": 80,
     "metadata": {},
     "output_type": "execute_result"
    }
   ],
   "source": [
    "acuracia"
   ]
  }
 ],
 "metadata": {
  "kernelspec": {
   "display_name": "Python 3 (ipykernel)",
   "language": "python",
   "name": "python3"
  },
  "language_info": {
   "codemirror_mode": {
    "name": "ipython",
    "version": 3
   },
   "file_extension": ".py",
   "mimetype": "text/x-python",
   "name": "python",
   "nbconvert_exporter": "python",
   "pygments_lexer": "ipython3",
   "version": "3.7.5"
  }
 },
 "nbformat": 4,
 "nbformat_minor": 5
}
